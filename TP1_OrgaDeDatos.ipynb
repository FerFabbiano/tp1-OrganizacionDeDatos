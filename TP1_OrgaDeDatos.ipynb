{
 "cells": [
  {
   "cell_type": "markdown",
   "metadata": {
    "id": "e_Jwk1H3Dp2n"
   },
   "source": [
    "## Imports e Inicialización del DataFrame"
   ]
  },
  {
   "cell_type": "code",
   "execution_count": null,
   "metadata": {
    "colab": {
     "base_uri": "https://localhost:8080/"
    },
    "id": "bbKHcJRsFSZL",
    "outputId": "bfd3bf8f-e172-4a0b-de4d-593acd8f0012"
   },
   "outputs": [
    {
     "name": "stdout",
     "output_type": "stream",
     "text": [
      "Collecting squarify\n",
      "  Downloading https://files.pythonhosted.org/packages/0b/2b/2e77c35326efec19819cd1d729540d4d235e6c2a3f37658288a363a67da5/squarify-0.4.3-py3-none-any.whl\n",
      "Installing collected packages: squarify\n",
      "Successfully installed squarify-0.4.3\n",
      "Collecting geopandas\n",
      "\u001b[?25l  Downloading https://files.pythonhosted.org/packages/f7/a4/e66aafbefcbb717813bf3a355c8c4fc3ed04ea1dd7feb2920f2f4f868921/geopandas-0.8.1-py2.py3-none-any.whl (962kB)\n",
      "\u001b[K     |████████████████████████████████| 972kB 6.0MB/s \n",
      "\u001b[?25hCollecting pyproj>=2.2.0\n",
      "\u001b[?25l  Downloading https://files.pythonhosted.org/packages/e4/ab/280e80a67cfc109d15428c0ec56391fc03a65857b7727cf4e6e6f99a4204/pyproj-3.0.0.post1-cp36-cp36m-manylinux2010_x86_64.whl (6.4MB)\n",
      "\u001b[K     |████████████████████████████████| 6.5MB 39.2MB/s \n",
      "\u001b[?25hRequirement already satisfied: pandas>=0.23.0 in /usr/local/lib/python3.6/dist-packages (from geopandas) (1.1.4)\n",
      "Collecting fiona\n",
      "\u001b[?25l  Downloading https://files.pythonhosted.org/packages/36/8b/e8b2c11bed5373c8e98edb85ce891b09aa1f4210fd451d0fb3696b7695a2/Fiona-1.8.17-cp36-cp36m-manylinux1_x86_64.whl (14.8MB)\n",
      "\u001b[K     |████████████████████████████████| 14.8MB 255kB/s \n",
      "\u001b[?25hRequirement already satisfied: shapely in /usr/local/lib/python3.6/dist-packages (from geopandas) (1.7.1)\n",
      "Requirement already satisfied: certifi in /usr/local/lib/python3.6/dist-packages (from pyproj>=2.2.0->geopandas) (2020.6.20)\n",
      "Requirement already satisfied: python-dateutil>=2.7.3 in /usr/local/lib/python3.6/dist-packages (from pandas>=0.23.0->geopandas) (2.8.1)\n",
      "Requirement already satisfied: pytz>=2017.2 in /usr/local/lib/python3.6/dist-packages (from pandas>=0.23.0->geopandas) (2018.9)\n",
      "Requirement already satisfied: numpy>=1.15.4 in /usr/local/lib/python3.6/dist-packages (from pandas>=0.23.0->geopandas) (1.18.5)\n",
      "Collecting munch\n",
      "  Downloading https://files.pythonhosted.org/packages/cc/ab/85d8da5c9a45e072301beb37ad7f833cd344e04c817d97e0cc75681d248f/munch-2.5.0-py2.py3-none-any.whl\n",
      "Requirement already satisfied: attrs>=17 in /usr/local/lib/python3.6/dist-packages (from fiona->geopandas) (20.2.0)\n",
      "Requirement already satisfied: click<8,>=4.0 in /usr/local/lib/python3.6/dist-packages (from fiona->geopandas) (7.1.2)\n",
      "Collecting cligj>=0.5\n",
      "  Downloading https://files.pythonhosted.org/packages/ba/06/e3440b1f2dc802d35f329f299ba96153e9fcbfdef75e17f4b61f79430c6a/cligj-0.7.0-py3-none-any.whl\n",
      "Requirement already satisfied: six>=1.7 in /usr/local/lib/python3.6/dist-packages (from fiona->geopandas) (1.15.0)\n",
      "Collecting click-plugins>=1.0\n",
      "  Downloading https://files.pythonhosted.org/packages/e9/da/824b92d9942f4e472702488857914bdd50f73021efea15b4cad9aca8ecef/click_plugins-1.1.1-py2.py3-none-any.whl\n",
      "Installing collected packages: pyproj, munch, cligj, click-plugins, fiona, geopandas\n",
      "Successfully installed click-plugins-1.1.1 cligj-0.7.0 fiona-1.8.17 geopandas-0.8.1 munch-2.5.0 pyproj-3.0.0.post1\n"
     ]
    }
   ],
   "source": [
    "!pip install squarify\n",
    "import pandas as pd\n",
    "import numpy as np\n",
    "import seaborn as sns\n",
    "import squarify # pip install squarify\n",
    "import matplotlib.pyplot as plt\n",
    "%matplotlib inline\n",
    "\n",
    "# import necesario para graficar mapas \n",
    "import geopandas as gpd"
   ]
  },
  {
   "cell_type": "code",
   "execution_count": null,
   "metadata": {
    "id": "jRQPRGAvDepb"
   },
   "outputs": [],
   "source": [
    "pd.options.display.float_format = '{:20,.2f}'.format # suprimimos la notacion cientifica en los outputs\n",
    "\n",
    "entrenamientoDf = pd.read_csv('Entrenamieto_ECI_2020.csv')"
   ]
  },
  {
   "cell_type": "markdown",
   "metadata": {
    "id": "iq5f3W9BPN20"
   },
   "source": [
    "# Analisis exploratorio inicial\n"
   ]
  },
  {
   "cell_type": "markdown",
   "metadata": {
    "id": "TWg6scrZPwUx"
   },
   "source": [
    "## Pasaje de cada a columna al tipo de dato indicado en la consigna\n"
   ]
  },
  {
   "cell_type": "code",
   "execution_count": null,
   "metadata": {
    "colab": {
     "base_uri": "https://localhost:8080/"
    },
    "id": "RZ3NdGXjPrdO",
    "outputId": "70ee8319-be68-401e-d2f5-51ad6fe62ed0"
   },
   "outputs": [
    {
     "name": "stdout",
     "output_type": "stream",
     "text": [
      "<class 'pandas.core.frame.DataFrame'>\n",
      "RangeIndex: 16947 entries, 0 to 16946\n",
      "Data columns (total 52 columns):\n",
      " #   Column                              Non-Null Count  Dtype  \n",
      "---  ------                              --------------  -----  \n",
      " 0   ID                                  16947 non-null  int64  \n",
      " 1   Region                              16947 non-null  object \n",
      " 2   Territory                           16947 non-null  object \n",
      " 3   Pricing, Delivery_Terms_Quote_Appr  16947 non-null  int64  \n",
      " 4   Pricing, Delivery_Terms_Approved    16947 non-null  int64  \n",
      " 5   Bureaucratic_Code_0_Approval        16947 non-null  int64  \n",
      " 6   Bureaucratic_Code_0_Approved        16947 non-null  int64  \n",
      " 7   Submitted_for_Approval              16947 non-null  int64  \n",
      " 8   Bureaucratic_Code                   16947 non-null  object \n",
      " 9   Account_Created_Date                16947 non-null  object \n",
      " 10  Source                              16947 non-null  object \n",
      " 11  Billing_Country                     16947 non-null  object \n",
      " 12  Account_Name                        16947 non-null  object \n",
      " 13  Opportunity_Name                    16947 non-null  object \n",
      " 14  Opportunity_ID                      16947 non-null  int64  \n",
      " 15  Sales_Contract_No                   16947 non-null  object \n",
      " 16  Account_Owner                       16947 non-null  object \n",
      " 17  Opportunity_Owner                   16947 non-null  object \n",
      " 18  Account_Type                        16947 non-null  object \n",
      " 19  Opportunity_Type                    16947 non-null  object \n",
      " 20  Quote_Type                          16947 non-null  object \n",
      " 21  Delivery_Terms                      16947 non-null  object \n",
      " 22  Opportunity_Created_Date            16947 non-null  object \n",
      " 23  Brand                               16947 non-null  object \n",
      " 24  Product_Type                        16947 non-null  object \n",
      " 25  Size                                16947 non-null  object \n",
      " 26  Product_Category_B                  16947 non-null  object \n",
      " 27  Price                               16947 non-null  object \n",
      " 28  Currency                            16947 non-null  object \n",
      " 29  Last_Activity                       16947 non-null  object \n",
      " 30  Quote_Expiry_Date                   16947 non-null  object \n",
      " 31  Last_Modified_Date                  16947 non-null  object \n",
      " 32  Last_Modified_By                    16947 non-null  object \n",
      " 33  Product_Family                      16947 non-null  object \n",
      " 34  Product_Name                        16947 non-null  object \n",
      " 35  ASP_Currency                        16947 non-null  object \n",
      " 36  ASP                                 13738 non-null  float64\n",
      " 37  ASP_(converted)_Currency            16947 non-null  object \n",
      " 38  ASP_(converted)                     13738 non-null  float64\n",
      " 39  Planned_Delivery_Start_Date         16947 non-null  object \n",
      " 40  Planned_Delivery_End_Date           16947 non-null  object \n",
      " 41  Month                               16947 non-null  object \n",
      " 42  Delivery_Quarter                    16947 non-null  object \n",
      " 43  Delivery_Year                       16947 non-null  int64  \n",
      " 44  Actual_Delivery_Date                16947 non-null  object \n",
      " 45  TRF                                 16947 non-null  int64  \n",
      " 46  Total_Amount_Currency               16947 non-null  object \n",
      " 47  Total_Amount                        16888 non-null  float64\n",
      " 48  Total_Taxable_Amount_Currency       16947 non-null  object \n",
      " 49  Total_Taxable_Amount                16947 non-null  float64\n",
      " 50  Stage                               16947 non-null  object \n",
      " 51  Prod_Category_A                     16947 non-null  object \n",
      "dtypes: float64(4), int64(9), object(39)\n",
      "memory usage: 6.7+ MB\n"
     ]
    }
   ],
   "source": [
    "\"\"\"entrenamientoDf[\"Region\"] = entrenamientoDf[\"Region\"].astype(\"category\")\n",
    "entrenamientoDf[\"Territory\"] = entrenamientoDf[\"Territory\"].astype(\"category\")\n",
    "entrenamientoDf[\"Bureaucratic_Code\"] = entrenamientoDf[\"Bureaucratic_Code\"].astype(\"category\")\n",
    "#correccion del nombre de la columna Source.\n",
    "entrenamientoDf.rename(columns={\"Source \":\"Source\"},inplace=True)\n",
    "entrenamientoDf[\"Source\"] = entrenamientoDf[\"Source\"].astype(\"category\")\n",
    "entrenamientoDf[\"Billing_Country\"] = entrenamientoDf[\"Billing_Country\"].astype(\"category\")\n",
    "entrenamientoDf[\"Account_Name\"] = entrenamientoDf[\"Account_Name\"].astype(\"category\")\n",
    "entrenamientoDf[\"Opportunity_Name\"] = entrenamientoDf[\"Opportunity_Name\"].astype(\"category\")\n",
    "entrenamientoDf[\"Account_Owner\"] = entrenamientoDf[\"Account_Owner\"].astype(\"category\")\n",
    "entrenamientoDf[\"Account_Type\"] = entrenamientoDf[\"Account_Type\"].astype(\"category\")\n",
    "entrenamientoDf[\"Opportunity_Type\"] = entrenamientoDf[\"Opportunity_Type\"].astype(\"category\")\n",
    "entrenamientoDf[\"Quote_Type\"] = entrenamientoDf[\"Quote_Type\"].astype(\"category\")\n",
    "entrenamientoDf[\"Delivery_Terms\"] = entrenamientoDf[\"Delivery_Terms\"].astype(\"category\")\n",
    "entrenamientoDf[\"Brand\"] = entrenamientoDf[\"Brand\"].astype(\"category\")\n",
    "entrenamientoDf[\"Product_Type\"] = entrenamientoDf[\"Product_Type\"].astype(\"category\")\n",
    "entrenamientoDf[\"Size\"] = entrenamientoDf[\"Size\"].astype(\"category\")\n",
    "entrenamientoDf[\"Product_Category_B\"] = entrenamientoDf[\"Product_Category_B\"].astype(\"category\")\n",
    "entrenamientoDf[\"Currency\"] = entrenamientoDf[\"Currency\"].astype(\"category\")\n",
    "entrenamientoDf[\"Last_Modified_By\"] = entrenamientoDf[\"Last_Modified_By\"].astype(\"category\")\n",
    "entrenamientoDf[\"Product_Family\"] = entrenamientoDf[\"Product_Family\"].astype(\"category\")\n",
    "entrenamientoDf[\"Product_Name\"] = entrenamientoDf[\"Product_Name\"].astype(\"category\")\n",
    "entrenamientoDf[\"ASP_Currency\"] = entrenamientoDf[\"ASP_Currency\"].astype(\"category\")\n",
    "entrenamientoDf[\"ASP_(converted)_Currency\"] = entrenamientoDf[\"ASP_(converted)_Currency\"].astype(\"category\")\n",
    "entrenamientoDf[\"Delivery_Quarter\"] = entrenamientoDf[\"Delivery_Quarter\"].astype(\"category\")\n",
    "entrenamientoDf[\"Total_Taxable_Amount_Currency\"] = entrenamientoDf[\"Total_Taxable_Amount_Currency\"].astype(\"category\")\n",
    "entrenamientoDf[\"Stage\"] = entrenamientoDf[\"Stage\"].astype(\"category\")\n",
    "entrenamientoDf[\"Prod_Category_A\"] = entrenamientoDf[\"Prod_Category_A\"].astype(\"category)\"\"\"\n",
    "\n",
    "#Las columnas de ASP,ASP_(converted) y Total_Amount tienen elementos nulos\n",
    "entrenamientoDfProcesado = entrenamientoDf\n",
    "entrenamientoDf.info()\n",
    "#REVISAR EL RESULTADO DEL PASAJE DE TIPOS HAY VARIOS TIPO OBJECT"
   ]
  },
  {
   "cell_type": "markdown",
   "metadata": {
    "id": "dKtFckEAQujm"
   },
   "source": [
    "## Tratamiento de valores nulos ASP y ASP_(converted)"
   ]
  },
  {
   "cell_type": "code",
   "execution_count": null,
   "metadata": {
    "id": "6x5JuEJmQ3p_"
   },
   "outputs": [],
   "source": [
    "ASP_Promedio_Por_Moneda = entrenamientoDf.groupby('ASP_Currency')['ASP'].transform('mean')\n",
    "ASP_Converted_Promedio_Por_Moneda = entrenamientoDf.groupby('ASP_Currency')['ASP_(converted)'].transform('mean')\n",
    "\n",
    "ASP_Es_Nulo = entrenamientoDf.ASP.isnull()\n",
    "nuevo_ASP = ASP_Promedio_Por_Moneda if (lambda x: x.ASP_Es_Nulo) else entrenamientoDf.ASP\n",
    "\n",
    "ASP_Converted_Es_Nulo = entrenamientoDf['ASP_(converted)'].isnull()\n",
    "nuevo_ASP_Converted = ASP_Converted_Promedio_Por_Moneda if (lambda x: x.ASP_Es_Nulo) else entrenamientoDf['ASP_(converted)']\n",
    "\n",
    "entrenamientoDfProcesado['ASP'] = nuevo_ASP\n",
    "entrenamientoDfProcesado['ASP_(converted)'] = nuevo_ASP_Converted"
   ]
  },
  {
   "cell_type": "code",
   "execution_count": null,
   "metadata": {
    "id": "8eoxBFcURdBs"
   },
   "outputs": [],
   "source": [
    "# LOS TOTAL_AMOUNT NULOS LOS DEJAMOS ASI COMO ESTAN,Y LOS TRATAMOS EN CADA ANALISIS PARTICULAR PARA HACER UN TRATAMIENTO ADECUADO\n",
    "# Ahora que tenemos un valor asignado de ASP y ASP_Converted para todos los items,podemos realizar la conversion para todos ellos\n",
    "entrenamientoDfProcesado['Total_Amount_USD'] = (entrenamientoDfProcesado['ASP_(converted)'] / entrenamientoDfProcesado['ASP']) * (entrenamientoDfProcesado['Total_Amount'])\n",
    "entrenamientoDfProcesado['Total_Taxable_Amount_USD'] = (entrenamientoDfProcesado['ASP_(converted)'] / entrenamientoDfProcesado['ASP']) * (entrenamientoDfProcesado['Total_Taxable_Amount'])"
   ]
  },
  {
   "cell_type": "markdown",
   "metadata": {
    "id": "Dy91KkPLTW1H"
   },
   "source": [
    "## Resolucion columnas que tienen datos inutiles,que no aportan nada\n"
   ]
  },
  {
   "cell_type": "code",
   "execution_count": null,
   "metadata": {
    "colab": {
     "base_uri": "https://localhost:8080/"
    },
    "id": "2b66VUMQTcvx",
    "outputId": "57f32cfa-e6bb-4aaa-e1c3-09aef1b903a8"
   },
   "outputs": [
    {
     "data": {
      "text/plain": [
       "94.30577683365787"
      ]
     },
     "execution_count": 8,
     "metadata": {
      "tags": []
     },
     "output_type": "execute_result"
    }
   ],
   "source": [
    "cantidadTotalDeValores = entrenamientoDf['Price'].value_counts().sum()\n",
    "cantidadDeOtherONoneONat = entrenamientoDf['Price'].value_counts()['None' or 'Other' or 'NaT'].sum()\n",
    "porcentajeDeInutiles = (cantidadDeOtherONoneONat/cantidadTotalDeValores)*100\n",
    "porcentajeDeInutiles"
   ]
  },
  {
   "cell_type": "code",
   "execution_count": null,
   "metadata": {
    "id": "CAlXvfn_Gpcw"
   },
   "outputs": [],
   "source": [
    "# Como Price tiene la columna Currency asociada, decidimos sacar ambas.\n",
    "entrenamientoDfProcesado = entrenamientoDfProcesado.drop(columns= ['Price','Currency'])"
   ]
  },
  {
   "cell_type": "code",
   "execution_count": null,
   "metadata": {
    "colab": {
     "base_uri": "https://localhost:8080/"
    },
    "id": "nV7Cs0sDUThE",
    "outputId": "93d8da87-de69-4a70-f081-567cdd5571d5"
   },
   "outputs": [
    {
     "data": {
      "text/plain": [
       "100.0"
      ]
     },
     "execution_count": 10,
     "metadata": {
      "tags": []
     },
     "output_type": "execute_result"
    }
   ],
   "source": [
    "cantidadDeOtherONoneONat = entrenamientoDf['Last_Activity'].value_counts()['NaT'].sum()\n",
    "porcentajeDeInutiles = (cantidadDeOtherONoneONat/cantidadTotalDeValores)*100\n",
    "porcentajeDeInutiles"
   ]
  },
  {
   "cell_type": "code",
   "execution_count": null,
   "metadata": {
    "id": "KzPnQZaAIvvd"
   },
   "outputs": [],
   "source": [
    "entrenamientoDfProcesado = entrenamientoDfProcesado.drop(columns= 'Last_Activity')"
   ]
  },
  {
   "cell_type": "code",
   "execution_count": null,
   "metadata": {
    "colab": {
     "base_uri": "https://localhost:8080/"
    },
    "id": "04sO95i5UhfM",
    "outputId": "d69d35ae-d47f-4568-ad70-3bf36d2ba00b"
   },
   "outputs": [
    {
     "data": {
      "text/plain": [
       "100.0"
      ]
     },
     "execution_count": 12,
     "metadata": {
      "tags": []
     },
     "output_type": "execute_result"
    }
   ],
   "source": [
    "cantidadDeOtherONoneONat = entrenamientoDf['Actual_Delivery_Date'].value_counts()['NaT'].sum()\n",
    "porcentajeDeInutiles = (cantidadDeOtherONoneONat/cantidadTotalDeValores)*100\n",
    "porcentajeDeInutiles"
   ]
  },
  {
   "cell_type": "code",
   "execution_count": null,
   "metadata": {
    "id": "Tii-GSeuKtwb"
   },
   "outputs": [],
   "source": [
    "entrenamientoDfProcesado = entrenamientoDfProcesado.drop(columns= 'Actual_Delivery_Date')"
   ]
  },
  {
   "cell_type": "code",
   "execution_count": null,
   "metadata": {
    "colab": {
     "base_uri": "https://localhost:8080/"
    },
    "id": "sp7b1MQ_YeNL",
    "outputId": "383bf76d-0ca2-4334-bf83-38012fb5eb4d"
   },
   "outputs": [
    {
     "data": {
      "text/plain": [
       "56.039417005959756"
      ]
     },
     "execution_count": 14,
     "metadata": {
      "tags": []
     },
     "output_type": "execute_result"
    }
   ],
   "source": [
    "cantidadDeOtherONoneONat = entrenamientoDf['Source '].value_counts()['None'].sum()\n",
    "porcentajeDeInutiles = (cantidadDeOtherONoneONat/cantidadTotalDeValores)*100\n",
    "porcentajeDeInutiles"
   ]
  },
  {
   "cell_type": "code",
   "execution_count": null,
   "metadata": {
    "id": "jc_s15g5K95_"
   },
   "outputs": [],
   "source": [
    "entrenamientoDfProcesado = entrenamientoDfProcesado.drop(columns= 'Source ')"
   ]
  },
  {
   "cell_type": "code",
   "execution_count": null,
   "metadata": {
    "colab": {
     "base_uri": "https://localhost:8080/"
    },
    "id": "np0oFebZZic3",
    "outputId": "99350097-40f8-4802-ef4c-277c53821461"
   },
   "outputs": [
    {
     "data": {
      "text/plain": [
       "56.039417005959756"
      ]
     },
     "execution_count": 16,
     "metadata": {
      "tags": []
     },
     "output_type": "execute_result"
    }
   ],
   "source": [
    "entrenamientoDf.Sales_Contract_No.value_counts()\n",
    "#entrenamientoDf[['Stage','Sales_Contract_No']].loc[entrenamientoDf.Sales_Contract_No == 'None'].value_counts()\n",
    "cantidadDeOtherONoneONat = entrenamientoDf['Source '].value_counts()['None'].sum()\n",
    "porcentajeDeInutiles = (cantidadDeOtherONoneONat/cantidadTotalDeValores)*100\n",
    "porcentajeDeInutiles\n",
    "#TIENE SENTIDO,SE LE ASIGNA UN NUMERO DE CONTRATO SOLO A LAS OP EXITOSAS,LA DEJAMOS"
   ]
  },
  {
   "cell_type": "code",
   "execution_count": null,
   "metadata": {
    "colab": {
     "base_uri": "https://localhost:8080/"
    },
    "id": "1D7j7I9DZ_M-",
    "outputId": "9a4370a7-5cb7-4832-c62f-b09c12472354"
   },
   "outputs": [
    {
     "data": {
      "text/plain": [
       "93.88682362660057"
      ]
     },
     "execution_count": 17,
     "metadata": {
      "tags": []
     },
     "output_type": "execute_result"
    }
   ],
   "source": [
    "entrenamientoDf.Brand.value_counts()\n",
    "cantidadDeOtherONoneONat = entrenamientoDf['Brand'].value_counts()['None' or 'Other'].sum()\n",
    "porcentajeDeInutiles = (cantidadDeOtherONoneONat/cantidadTotalDeValores)*100\n",
    "porcentajeDeInutiles"
   ]
  },
  {
   "cell_type": "code",
   "execution_count": null,
   "metadata": {
    "id": "gLuVWe3rcqss"
   },
   "outputs": [],
   "source": [
    "entrenamientoDfProcesado = entrenamientoDfProcesado.drop(columns= 'Brand')"
   ]
  },
  {
   "cell_type": "code",
   "execution_count": null,
   "metadata": {
    "colab": {
     "base_uri": "https://localhost:8080/"
    },
    "id": "EQEBA0w2adym",
    "outputId": "ad373e07-0750-4947-bfd6-419f874ba028"
   },
   "outputs": [
    {
     "data": {
      "text/plain": [
       "94.21726559273029"
      ]
     },
     "execution_count": 19,
     "metadata": {
      "tags": []
     },
     "output_type": "execute_result"
    }
   ],
   "source": [
    "entrenamientoDf.Size.value_counts()\n",
    "cantidadDeOtherONoneONat = entrenamientoDf['Size'].value_counts()['None' or 'Other'].sum()\n",
    "porcentajeDeInutiles = (cantidadDeOtherONoneONat/cantidadTotalDeValores)*100\n",
    "porcentajeDeInutiles"
   ]
  },
  {
   "cell_type": "code",
   "execution_count": null,
   "metadata": {
    "id": "Hu243_3fdbMe"
   },
   "outputs": [],
   "source": [
    "entrenamientoDfProcesado = entrenamientoDfProcesado.drop(columns= 'Size')"
   ]
  },
  {
   "cell_type": "code",
   "execution_count": null,
   "metadata": {
    "colab": {
     "base_uri": "https://localhost:8080/"
    },
    "id": "cb_y3wGFbGDd",
    "outputId": "5c997009-942d-442a-838a-5f4052d18c1f"
   },
   "outputs": [
    {
     "data": {
      "text/plain": [
       "93.98713636631852"
      ]
     },
     "execution_count": 21,
     "metadata": {
      "tags": []
     },
     "output_type": "execute_result"
    }
   ],
   "source": [
    "entrenamientoDf.Product_Category_B.value_counts()\n",
    "cantidadDeOtherONoneONat = entrenamientoDf['Product_Category_B'].value_counts()['None' or 'Other'].sum()\n",
    "porcentajeDeInutiles = (cantidadDeOtherONoneONat/cantidadTotalDeValores)*100\n",
    "porcentajeDeInutiles"
   ]
  },
  {
   "cell_type": "code",
   "execution_count": null,
   "metadata": {
    "id": "CxubBVijeAfz"
   },
   "outputs": [],
   "source": [
    "entrenamientoDfProcesado = entrenamientoDfProcesado.drop(columns= 'Product_Category_B')"
   ]
  },
  {
   "cell_type": "code",
   "execution_count": null,
   "metadata": {
    "colab": {
     "base_uri": "https://localhost:8080/"
    },
    "id": "-UBdSUsLdpoc",
    "outputId": "1b98522c-3cca-4e5e-f970-e0cd922f04bf"
   },
   "outputs": [
    {
     "data": {
      "text/plain": [
       "27.29096595267599"
      ]
     },
     "execution_count": 23,
     "metadata": {
      "tags": []
     },
     "output_type": "execute_result"
    }
   ],
   "source": [
    "entrenamientoDf.Quote_Expiry_Date.value_counts()\n",
    "cantidadDeOtherONoneONat = entrenamientoDf['Quote_Expiry_Date'].value_counts()['NaT'].sum()\n",
    "porcentajeDeInutiles = (cantidadDeOtherONoneONat/cantidadTotalDeValores)*100\n",
    "porcentajeDeInutiles\n",
    "#ESTA CREO QUE NO LA PODRIAMOS DESCARTAR"
   ]
  },
  {
   "cell_type": "code",
   "execution_count": null,
   "metadata": {
    "colab": {
     "base_uri": "https://localhost:8080/"
    },
    "id": "Nc8zPaESfB4P",
    "outputId": "2ef79fe6-fbb8-445d-a868-8d8e841e092b"
   },
   "outputs": [
    {
     "data": {
      "text/plain": [
       "94.02844161208473"
      ]
     },
     "execution_count": 24,
     "metadata": {
      "tags": []
     },
     "output_type": "execute_result"
    }
   ],
   "source": [
    "entrenamientoDf.Product_Type.value_counts()\n",
    "cantidadDeOtherONoneONat = entrenamientoDf['Product_Type'].value_counts()['None' or 'Other'].sum()\n",
    "porcentajeDeInutiles = (cantidadDeOtherONoneONat/cantidadTotalDeValores)*100\n",
    "porcentajeDeInutiles"
   ]
  },
  {
   "cell_type": "code",
   "execution_count": null,
   "metadata": {
    "id": "JrmQxmSkfbK7"
   },
   "outputs": [],
   "source": [
    "entrenamientoDfProcesado = entrenamientoDfProcesado.drop(columns= 'Product_Type')"
   ]
  },
  {
   "cell_type": "code",
   "execution_count": null,
   "metadata": {
    "colab": {
     "base_uri": "https://localhost:8080/"
    },
    "id": "v1LfHb0ifPEg",
    "outputId": "cb8a592e-7ab2-4df9-b430-333c4ef0025a"
   },
   "outputs": [
    {
     "data": {
      "text/plain": [
       "100.0"
      ]
     },
     "execution_count": 26,
     "metadata": {
      "tags": []
     },
     "output_type": "execute_result"
    }
   ],
   "source": [
    "entrenamientoDf.Prod_Category_A.value_counts()\n",
    "cantidadDeOtherONoneONat = entrenamientoDf['Prod_Category_A'].value_counts()['Prod_Category_A_None'].sum()\n",
    "porcentajeDeInutiles = (cantidadDeOtherONoneONat/cantidadTotalDeValores)*100\n",
    "porcentajeDeInutiles"
   ]
  },
  {
   "cell_type": "code",
   "execution_count": null,
   "metadata": {
    "id": "tS1gzIYwfuWJ"
   },
   "outputs": [],
   "source": [
    "entrenamientoDfProcesado = entrenamientoDfProcesado.drop(columns= 'Prod_Category_A')"
   ]
  },
  {
   "cell_type": "markdown",
   "metadata": {
    "id": "DBjySQnrf5nk"
   },
   "source": [
    "# Análisis de los datos"
   ]
  },
  {
   "cell_type": "markdown",
   "metadata": {
    "id": "EKdq6Bk9i7GU"
   },
   "source": [
    "###  Análisis sobre los Vendedores\n",
    "\n"
   ]
  },
  {
   "cell_type": "code",
   "execution_count": null,
   "metadata": {
    "id": "9qhy9Y0MjBXw"
   },
   "outputs": [],
   "source": [
    "# Primero filtro y me quedo con las ventas realizadas\n",
    "df_closed_won = entrenamientoDfProcesado[entrenamientoDfProcesado['Stage']=='Closed Won']"
   ]
  },
  {
   "cell_type": "code",
   "execution_count": null,
   "metadata": {
    "colab": {
     "base_uri": "https://localhost:8080/"
    },
    "id": "xSWHyEOzjJZu",
    "outputId": "d65f9ecf-6003-4364-e7db-412a9bf7c9fd"
   },
   "outputs": [
    {
     "name": "stderr",
     "output_type": "stream",
     "text": [
      "/usr/local/lib/python3.6/dist-packages/ipykernel_launcher.py:1: SettingWithCopyWarning: \n",
      "A value is trying to be set on a copy of a slice from a DataFrame.\n",
      "Try using .loc[row_indexer,col_indexer] = value instead\n",
      "\n",
      "See the caveats in the documentation: https://pandas.pydata.org/pandas-docs/stable/user_guide/indexing.html#returning-a-view-versus-a-copy\n",
      "  \"\"\"Entry point for launching an IPython kernel.\n"
     ]
    }
   ],
   "source": [
    "df_closed_won['Total_Taxable_Amount_Millions_USD'] = df_closed_won['Total_Taxable_Amount_USD'] / 10**6"
   ]
  },
  {
   "cell_type": "code",
   "execution_count": null,
   "metadata": {
    "colab": {
     "base_uri": "https://localhost:8080/"
    },
    "id": "f88yxUIimZgW",
    "outputId": "d5353f00-8405-4f38-bbff-a3c31d3d6ed7"
   },
   "outputs": [
    {
     "data": {
      "text/html": [
       "<div>\n",
       "<style scoped>\n",
       "    .dataframe tbody tr th:only-of-type {\n",
       "        vertical-align: middle;\n",
       "    }\n",
       "\n",
       "    .dataframe tbody tr th {\n",
       "        vertical-align: top;\n",
       "    }\n",
       "\n",
       "    .dataframe thead th {\n",
       "        text-align: right;\n",
       "    }\n",
       "</style>\n",
       "<table border=\"1\" class=\"dataframe\">\n",
       "  <thead>\n",
       "    <tr style=\"text-align: right;\">\n",
       "      <th></th>\n",
       "      <th>ID</th>\n",
       "      <th>Region</th>\n",
       "      <th>Territory</th>\n",
       "      <th>Pricing, Delivery_Terms_Quote_Appr</th>\n",
       "      <th>Pricing, Delivery_Terms_Approved</th>\n",
       "      <th>Bureaucratic_Code_0_Approval</th>\n",
       "      <th>Bureaucratic_Code_0_Approved</th>\n",
       "      <th>Submitted_for_Approval</th>\n",
       "      <th>Bureaucratic_Code</th>\n",
       "      <th>Account_Created_Date</th>\n",
       "      <th>Billing_Country</th>\n",
       "      <th>Account_Name</th>\n",
       "      <th>Opportunity_Name</th>\n",
       "      <th>Opportunity_ID</th>\n",
       "      <th>Sales_Contract_No</th>\n",
       "      <th>Account_Owner</th>\n",
       "      <th>Opportunity_Owner</th>\n",
       "      <th>Account_Type</th>\n",
       "      <th>Opportunity_Type</th>\n",
       "      <th>Quote_Type</th>\n",
       "      <th>Delivery_Terms</th>\n",
       "      <th>Opportunity_Created_Date</th>\n",
       "      <th>Quote_Expiry_Date</th>\n",
       "      <th>Last_Modified_Date</th>\n",
       "      <th>Last_Modified_By</th>\n",
       "      <th>Product_Family</th>\n",
       "      <th>Product_Name</th>\n",
       "      <th>ASP_Currency</th>\n",
       "      <th>ASP</th>\n",
       "      <th>ASP_(converted)_Currency</th>\n",
       "      <th>ASP_(converted)</th>\n",
       "      <th>Planned_Delivery_Start_Date</th>\n",
       "      <th>Planned_Delivery_End_Date</th>\n",
       "      <th>Month</th>\n",
       "      <th>Delivery_Quarter</th>\n",
       "      <th>Delivery_Year</th>\n",
       "      <th>TRF</th>\n",
       "      <th>Total_Amount_Currency</th>\n",
       "      <th>Total_Amount</th>\n",
       "      <th>Total_Taxable_Amount_Currency</th>\n",
       "      <th>Total_Taxable_Amount</th>\n",
       "      <th>Stage</th>\n",
       "      <th>Total_Amount_USD</th>\n",
       "      <th>Total_Taxable_Amount_USD</th>\n",
       "      <th>Total_Taxable_Amount_Millions_USD</th>\n",
       "    </tr>\n",
       "  </thead>\n",
       "  <tbody>\n",
       "    <tr>\n",
       "      <th>2200</th>\n",
       "      <td>27692</td>\n",
       "      <td>Japan</td>\n",
       "      <td>None</td>\n",
       "      <td>1</td>\n",
       "      <td>1</td>\n",
       "      <td>1</td>\n",
       "      <td>1</td>\n",
       "      <td>0</td>\n",
       "      <td>Bureaucratic_Code_4</td>\n",
       "      <td>6/11/2015</td>\n",
       "      <td>Japan</td>\n",
       "      <td>Account_Name_1074</td>\n",
       "      <td>Opportunity_Name_6550</td>\n",
       "      <td>1248</td>\n",
       "      <td>116</td>\n",
       "      <td>Person_Name_61</td>\n",
       "      <td>Person_Name_66</td>\n",
       "      <td>Account_Type_0</td>\n",
       "      <td>Opportunity_Type_1</td>\n",
       "      <td>Non Binding</td>\n",
       "      <td>Delivery_Terms_5</td>\n",
       "      <td>2/19/2016</td>\n",
       "      <td>3/23/2016</td>\n",
       "      <td>12/4/2016</td>\n",
       "      <td>Person_Name_47</td>\n",
       "      <td>Product_Family_77</td>\n",
       "      <td>Product_Name_100</td>\n",
       "      <td>USD</td>\n",
       "      <td>0.42</td>\n",
       "      <td>USD</td>\n",
       "      <td>0.42</td>\n",
       "      <td>3/1/2016</td>\n",
       "      <td>3/11/2016</td>\n",
       "      <td>2016 - 3</td>\n",
       "      <td>Q1</td>\n",
       "      <td>2016</td>\n",
       "      <td>0</td>\n",
       "      <td>USD</td>\n",
       "      <td>12,194,000.00</td>\n",
       "      <td>JPY</td>\n",
       "      <td>1,356,338,620.00</td>\n",
       "      <td>Closed Won</td>\n",
       "      <td>12,194,000.00</td>\n",
       "      <td>1,356,338,620.00</td>\n",
       "      <td>1,356.34</td>\n",
       "    </tr>\n",
       "    <tr>\n",
       "      <th>16135</th>\n",
       "      <td>20265</td>\n",
       "      <td>Americas</td>\n",
       "      <td>NW America</td>\n",
       "      <td>1</td>\n",
       "      <td>0</td>\n",
       "      <td>1</td>\n",
       "      <td>0</td>\n",
       "      <td>0</td>\n",
       "      <td>Bureaucratic_Code_5</td>\n",
       "      <td>8/22/2013</td>\n",
       "      <td>United States</td>\n",
       "      <td>Account_Name_1409</td>\n",
       "      <td>Opportunity_Name_844</td>\n",
       "      <td>12390</td>\n",
       "      <td>None</td>\n",
       "      <td>Person_Name_8</td>\n",
       "      <td>Person_Name_8</td>\n",
       "      <td>Account_Type_2</td>\n",
       "      <td>Opportunity_Type_19</td>\n",
       "      <td>Binding</td>\n",
       "      <td>Delivery_Terms_4</td>\n",
       "      <td>12/8/2014</td>\n",
       "      <td>4/30/2015</td>\n",
       "      <td>8/25/2015</td>\n",
       "      <td>Person_Name_33</td>\n",
       "      <td>Product_Family_164</td>\n",
       "      <td>Product_Name_308</td>\n",
       "      <td>USD</td>\n",
       "      <td>0.42</td>\n",
       "      <td>USD</td>\n",
       "      <td>0.42</td>\n",
       "      <td>4/1/2016</td>\n",
       "      <td>4/30/2016</td>\n",
       "      <td>2016 - 4</td>\n",
       "      <td>Q2</td>\n",
       "      <td>2016</td>\n",
       "      <td>6</td>\n",
       "      <td>USD</td>\n",
       "      <td>3,992,215.34</td>\n",
       "      <td>USD</td>\n",
       "      <td>177,627,662.70</td>\n",
       "      <td>Closed Won</td>\n",
       "      <td>3,992,215.34</td>\n",
       "      <td>177,627,662.70</td>\n",
       "      <td>177.63</td>\n",
       "    </tr>\n",
       "    <tr>\n",
       "      <th>16136</th>\n",
       "      <td>20268</td>\n",
       "      <td>Americas</td>\n",
       "      <td>NW America</td>\n",
       "      <td>1</td>\n",
       "      <td>0</td>\n",
       "      <td>1</td>\n",
       "      <td>0</td>\n",
       "      <td>0</td>\n",
       "      <td>Bureaucratic_Code_5</td>\n",
       "      <td>8/22/2013</td>\n",
       "      <td>United States</td>\n",
       "      <td>Account_Name_1409</td>\n",
       "      <td>Opportunity_Name_844</td>\n",
       "      <td>12390</td>\n",
       "      <td>None</td>\n",
       "      <td>Person_Name_8</td>\n",
       "      <td>Person_Name_8</td>\n",
       "      <td>Account_Type_2</td>\n",
       "      <td>Opportunity_Type_19</td>\n",
       "      <td>Binding</td>\n",
       "      <td>Delivery_Terms_4</td>\n",
       "      <td>12/8/2014</td>\n",
       "      <td>4/30/2015</td>\n",
       "      <td>8/25/2015</td>\n",
       "      <td>Person_Name_33</td>\n",
       "      <td>Product_Family_158</td>\n",
       "      <td>Product_Name_285</td>\n",
       "      <td>USD</td>\n",
       "      <td>0.42</td>\n",
       "      <td>USD</td>\n",
       "      <td>0.42</td>\n",
       "      <td>4/1/2016</td>\n",
       "      <td>4/30/2016</td>\n",
       "      <td>2016 - 4</td>\n",
       "      <td>Q2</td>\n",
       "      <td>2016</td>\n",
       "      <td>2</td>\n",
       "      <td>USD</td>\n",
       "      <td>1,289,309.84</td>\n",
       "      <td>USD</td>\n",
       "      <td>177,627,662.70</td>\n",
       "      <td>Closed Won</td>\n",
       "      <td>1,289,309.84</td>\n",
       "      <td>177,627,662.70</td>\n",
       "      <td>177.63</td>\n",
       "    </tr>\n",
       "    <tr>\n",
       "      <th>16137</th>\n",
       "      <td>20271</td>\n",
       "      <td>Americas</td>\n",
       "      <td>NW America</td>\n",
       "      <td>1</td>\n",
       "      <td>0</td>\n",
       "      <td>1</td>\n",
       "      <td>0</td>\n",
       "      <td>0</td>\n",
       "      <td>Bureaucratic_Code_5</td>\n",
       "      <td>8/22/2013</td>\n",
       "      <td>United States</td>\n",
       "      <td>Account_Name_1409</td>\n",
       "      <td>Opportunity_Name_844</td>\n",
       "      <td>12390</td>\n",
       "      <td>None</td>\n",
       "      <td>Person_Name_8</td>\n",
       "      <td>Person_Name_8</td>\n",
       "      <td>Account_Type_2</td>\n",
       "      <td>Opportunity_Type_19</td>\n",
       "      <td>Binding</td>\n",
       "      <td>Delivery_Terms_4</td>\n",
       "      <td>12/8/2014</td>\n",
       "      <td>4/30/2015</td>\n",
       "      <td>8/25/2015</td>\n",
       "      <td>Person_Name_33</td>\n",
       "      <td>Product_Family_164</td>\n",
       "      <td>Product_Name_307</td>\n",
       "      <td>USD</td>\n",
       "      <td>0.42</td>\n",
       "      <td>USD</td>\n",
       "      <td>0.42</td>\n",
       "      <td>3/1/2016</td>\n",
       "      <td>3/31/2016</td>\n",
       "      <td>2016 - 3</td>\n",
       "      <td>Q1</td>\n",
       "      <td>2016</td>\n",
       "      <td>21</td>\n",
       "      <td>USD</td>\n",
       "      <td>14,410,505.18</td>\n",
       "      <td>USD</td>\n",
       "      <td>177,627,662.70</td>\n",
       "      <td>Closed Won</td>\n",
       "      <td>14,410,505.18</td>\n",
       "      <td>177,627,662.70</td>\n",
       "      <td>177.63</td>\n",
       "    </tr>\n",
       "    <tr>\n",
       "      <th>16138</th>\n",
       "      <td>20274</td>\n",
       "      <td>Americas</td>\n",
       "      <td>NW America</td>\n",
       "      <td>1</td>\n",
       "      <td>0</td>\n",
       "      <td>1</td>\n",
       "      <td>0</td>\n",
       "      <td>0</td>\n",
       "      <td>Bureaucratic_Code_5</td>\n",
       "      <td>8/22/2013</td>\n",
       "      <td>United States</td>\n",
       "      <td>Account_Name_1409</td>\n",
       "      <td>Opportunity_Name_844</td>\n",
       "      <td>12390</td>\n",
       "      <td>None</td>\n",
       "      <td>Person_Name_8</td>\n",
       "      <td>Person_Name_8</td>\n",
       "      <td>Account_Type_2</td>\n",
       "      <td>Opportunity_Type_19</td>\n",
       "      <td>Binding</td>\n",
       "      <td>Delivery_Terms_4</td>\n",
       "      <td>12/8/2014</td>\n",
       "      <td>4/30/2015</td>\n",
       "      <td>8/25/2015</td>\n",
       "      <td>Person_Name_33</td>\n",
       "      <td>Product_Family_158</td>\n",
       "      <td>Product_Name_286</td>\n",
       "      <td>USD</td>\n",
       "      <td>0.42</td>\n",
       "      <td>USD</td>\n",
       "      <td>0.42</td>\n",
       "      <td>3/1/2016</td>\n",
       "      <td>3/31/2016</td>\n",
       "      <td>2016 - 3</td>\n",
       "      <td>Q1</td>\n",
       "      <td>2016</td>\n",
       "      <td>15</td>\n",
       "      <td>USD</td>\n",
       "      <td>10,597,690.85</td>\n",
       "      <td>USD</td>\n",
       "      <td>177,627,662.70</td>\n",
       "      <td>Closed Won</td>\n",
       "      <td>10,597,690.85</td>\n",
       "      <td>177,627,662.70</td>\n",
       "      <td>177.63</td>\n",
       "    </tr>\n",
       "  </tbody>\n",
       "</table>\n",
       "</div>"
      ],
      "text/plain": [
       "          ID  ... Total_Taxable_Amount_Millions_USD\n",
       "2200   27692  ...                          1,356.34\n",
       "16135  20265  ...                            177.63\n",
       "16136  20268  ...                            177.63\n",
       "16137  20271  ...                            177.63\n",
       "16138  20274  ...                            177.63\n",
       "\n",
       "[5 rows x 45 columns]"
      ]
     },
     "execution_count": 30,
     "metadata": {
      "tags": []
     },
     "output_type": "execute_result"
    }
   ],
   "source": [
    "df_closed_won.nlargest(5, 'Total_Taxable_Amount_USD')"
   ]
  },
  {
   "cell_type": "code",
   "execution_count": null,
   "metadata": {
    "colab": {
     "base_uri": "https://localhost:8080/"
    },
    "id": "McachJV3m6S2",
    "outputId": "b280526e-1ccc-459d-da42-d2c036e2a7d6"
   },
   "outputs": [
    {
     "data": {
      "text/html": [
       "<div>\n",
       "<style scoped>\n",
       "    .dataframe tbody tr th:only-of-type {\n",
       "        vertical-align: middle;\n",
       "    }\n",
       "\n",
       "    .dataframe tbody tr th {\n",
       "        vertical-align: top;\n",
       "    }\n",
       "\n",
       "    .dataframe thead th {\n",
       "        text-align: right;\n",
       "    }\n",
       "</style>\n",
       "<table border=\"1\" class=\"dataframe\">\n",
       "  <thead>\n",
       "    <tr style=\"text-align: right;\">\n",
       "      <th></th>\n",
       "      <th>Total_Taxable_Amount_USD</th>\n",
       "    </tr>\n",
       "    <tr>\n",
       "      <th>Opportunity_Owner</th>\n",
       "      <th></th>\n",
       "    </tr>\n",
       "  </thead>\n",
       "  <tbody>\n",
       "    <tr>\n",
       "      <th>Person_Name_8</th>\n",
       "      <td>4,126,210,694.59</td>\n",
       "    </tr>\n",
       "    <tr>\n",
       "      <th>Person_Name_66</th>\n",
       "      <td>1,424,500,879.42</td>\n",
       "    </tr>\n",
       "    <tr>\n",
       "      <th>Person_Name_13</th>\n",
       "      <td>655,146,708.20</td>\n",
       "    </tr>\n",
       "    <tr>\n",
       "      <th>Person_Name_4</th>\n",
       "      <td>320,394,701.82</td>\n",
       "    </tr>\n",
       "    <tr>\n",
       "      <th>Person_Name_12</th>\n",
       "      <td>210,630,603.30</td>\n",
       "    </tr>\n",
       "    <tr>\n",
       "      <th>Person_Name_18</th>\n",
       "      <td>190,525,258.51</td>\n",
       "    </tr>\n",
       "    <tr>\n",
       "      <th>Person_Name_43</th>\n",
       "      <td>187,653,353.60</td>\n",
       "    </tr>\n",
       "    <tr>\n",
       "      <th>Person_Name_19</th>\n",
       "      <td>117,167,576.86</td>\n",
       "    </tr>\n",
       "    <tr>\n",
       "      <th>Person_Name_46</th>\n",
       "      <td>93,898,644.59</td>\n",
       "    </tr>\n",
       "    <tr>\n",
       "      <th>Person_Name_49</th>\n",
       "      <td>68,266,323.80</td>\n",
       "    </tr>\n",
       "  </tbody>\n",
       "</table>\n",
       "</div>"
      ],
      "text/plain": [
       "                   Total_Taxable_Amount_USD\n",
       "Opportunity_Owner                          \n",
       "Person_Name_8              4,126,210,694.59\n",
       "Person_Name_66             1,424,500,879.42\n",
       "Person_Name_13               655,146,708.20\n",
       "Person_Name_4                320,394,701.82\n",
       "Person_Name_12               210,630,603.30\n",
       "Person_Name_18               190,525,258.51\n",
       "Person_Name_43               187,653,353.60\n",
       "Person_Name_19               117,167,576.86\n",
       "Person_Name_46                93,898,644.59\n",
       "Person_Name_49                68,266,323.80"
      ]
     },
     "execution_count": 31,
     "metadata": {
      "tags": []
     },
     "output_type": "execute_result"
    }
   ],
   "source": [
    "# Agrupo por vendedor\n",
    "total_sells_per_seller = df_closed_won.groupby('Opportunity_Owner').agg({'Total_Taxable_Amount_USD':'sum'})\n",
    "\n",
    "# Los mejores 10 vendedores en base a la cantidad de dinero ingresado en la empresa por sus ventas\n",
    "top10TotalSellsPerSeller = total_sells_per_seller.nlargest(10, 'Total_Taxable_Amount_USD')\n",
    "top10TotalSellsPerSeller"
   ]
  },
  {
   "cell_type": "code",
   "execution_count": null,
   "metadata": {
    "id": "UCOPb5rRnGKQ"
   },
   "outputs": [],
   "source": [
    "#Analizamos el porcentaje de oportunidades cerradas exitosamente por cada vendedor.\n",
    "df_sellers = entrenamientoDfProcesado[['Stage','Opportunity_Owner','Opportunity_Name']]"
   ]
  },
  {
   "cell_type": "code",
   "execution_count": null,
   "metadata": {
    "id": "IHPJKlJFnUpT"
   },
   "outputs": [],
   "source": [
    "# Cada oportunidad puede tener asociadas varios registros. Nos quedamos unicamente con un registro por oportunidad.\n",
    "# Tomamos como hipótesis que una oportunidad tiene asociada un único vendedor\n",
    "\n",
    "df_sellers = df_sellers.drop_duplicates(subset='Opportunity_Name')"
   ]
  },
  {
   "cell_type": "code",
   "execution_count": null,
   "metadata": {
    "colab": {
     "base_uri": "https://localhost:8080/"
    },
    "id": "1u5EkzM1nXr-",
    "outputId": "c1db2d64-2f83-453e-81d4-fd9fb8eeec83"
   },
   "outputs": [
    {
     "data": {
      "text/html": [
       "<div>\n",
       "<style scoped>\n",
       "    .dataframe tbody tr th:only-of-type {\n",
       "        vertical-align: middle;\n",
       "    }\n",
       "\n",
       "    .dataframe tbody tr th {\n",
       "        vertical-align: top;\n",
       "    }\n",
       "\n",
       "    .dataframe thead th {\n",
       "        text-align: right;\n",
       "    }\n",
       "</style>\n",
       "<table border=\"1\" class=\"dataframe\">\n",
       "  <thead>\n",
       "    <tr style=\"text-align: right;\">\n",
       "      <th></th>\n",
       "      <th>prom_lost</th>\n",
       "      <th>prom_won</th>\n",
       "      <th>prom_proposal</th>\n",
       "      <th>prom_qualification</th>\n",
       "      <th>prom_negotiation</th>\n",
       "    </tr>\n",
       "    <tr>\n",
       "      <th>Opportunity_Owner</th>\n",
       "      <th></th>\n",
       "      <th></th>\n",
       "      <th></th>\n",
       "      <th></th>\n",
       "      <th></th>\n",
       "    </tr>\n",
       "  </thead>\n",
       "  <tbody>\n",
       "    <tr>\n",
       "      <th>Person_Name_30</th>\n",
       "      <td>0.00</td>\n",
       "      <td>1.00</td>\n",
       "      <td>0.00</td>\n",
       "      <td>0.00</td>\n",
       "      <td>0.00</td>\n",
       "    </tr>\n",
       "    <tr>\n",
       "      <th>Person_Name_19</th>\n",
       "      <td>0.03</td>\n",
       "      <td>0.97</td>\n",
       "      <td>0.00</td>\n",
       "      <td>0.00</td>\n",
       "      <td>0.00</td>\n",
       "    </tr>\n",
       "    <tr>\n",
       "      <th>Person_Name_40</th>\n",
       "      <td>0.12</td>\n",
       "      <td>0.88</td>\n",
       "      <td>0.00</td>\n",
       "      <td>0.00</td>\n",
       "      <td>0.00</td>\n",
       "    </tr>\n",
       "    <tr>\n",
       "      <th>Person_Name_52</th>\n",
       "      <td>0.22</td>\n",
       "      <td>0.78</td>\n",
       "      <td>0.00</td>\n",
       "      <td>0.00</td>\n",
       "      <td>0.00</td>\n",
       "    </tr>\n",
       "    <tr>\n",
       "      <th>Person_Name_32</th>\n",
       "      <td>0.23</td>\n",
       "      <td>0.77</td>\n",
       "      <td>0.00</td>\n",
       "      <td>0.00</td>\n",
       "      <td>0.00</td>\n",
       "    </tr>\n",
       "    <tr>\n",
       "      <th>Person_Name_20</th>\n",
       "      <td>0.31</td>\n",
       "      <td>0.69</td>\n",
       "      <td>0.00</td>\n",
       "      <td>0.00</td>\n",
       "      <td>0.00</td>\n",
       "    </tr>\n",
       "    <tr>\n",
       "      <th>Person_Name_65</th>\n",
       "      <td>0.32</td>\n",
       "      <td>0.68</td>\n",
       "      <td>0.00</td>\n",
       "      <td>0.00</td>\n",
       "      <td>0.00</td>\n",
       "    </tr>\n",
       "    <tr>\n",
       "      <th>Person_Name_64</th>\n",
       "      <td>0.31</td>\n",
       "      <td>0.67</td>\n",
       "      <td>0.01</td>\n",
       "      <td>0.00</td>\n",
       "      <td>0.00</td>\n",
       "    </tr>\n",
       "    <tr>\n",
       "      <th>Person_Name_66</th>\n",
       "      <td>0.33</td>\n",
       "      <td>0.65</td>\n",
       "      <td>0.00</td>\n",
       "      <td>0.02</td>\n",
       "      <td>0.00</td>\n",
       "    </tr>\n",
       "    <tr>\n",
       "      <th>Person_Name_50</th>\n",
       "      <td>0.37</td>\n",
       "      <td>0.62</td>\n",
       "      <td>0.00</td>\n",
       "      <td>0.00</td>\n",
       "      <td>0.01</td>\n",
       "    </tr>\n",
       "  </tbody>\n",
       "</table>\n",
       "</div>"
      ],
      "text/plain": [
       "                             prom_lost  ...     prom_negotiation\n",
       "Opportunity_Owner                       ...                     \n",
       "Person_Name_30                    0.00  ...                 0.00\n",
       "Person_Name_19                    0.03  ...                 0.00\n",
       "Person_Name_40                    0.12  ...                 0.00\n",
       "Person_Name_52                    0.22  ...                 0.00\n",
       "Person_Name_32                    0.23  ...                 0.00\n",
       "Person_Name_20                    0.31  ...                 0.00\n",
       "Person_Name_65                    0.32  ...                 0.00\n",
       "Person_Name_64                    0.31  ...                 0.00\n",
       "Person_Name_66                    0.33  ...                 0.00\n",
       "Person_Name_50                    0.37  ...                 0.01\n",
       "\n",
       "[10 rows x 5 columns]"
      ]
     },
     "execution_count": 34,
     "metadata": {
      "tags": []
     },
     "output_type": "execute_result"
    }
   ],
   "source": [
    "# Calculamos el promedio de cada Stage para cada vendedor\n",
    "\n",
    "stages = df_sellers.groupby('Opportunity_Owner')[\"Stage\"]\n",
    "stages = stages.value_counts() / stages.count()\n",
    "stages = stages.to_frame().unstack().fillna(0)\n",
    "stages.columns = ['prom_lost','prom_won','prom_proposal','prom_qualification','prom_negotiation']\n",
    "stages.nlargest(10,'prom_won')"
   ]
  },
  {
   "cell_type": "markdown",
   "metadata": {
    "id": "wER4RQfHngks"
   },
   "source": [
    "Podemos ver que estos resultados pueden no estar siendo representativos debido al problema relacionado con La ecuación más peligrosa de la historia.\n",
    "\n",
    "Para solucionarlo, filtramos el data frame y nos quedamos únicamente con los vendedores que tengan más de x oportunidades asociadas, dónde x vamos a tomarlo como el promedio de oportunidades por vendedor."
   ]
  },
  {
   "cell_type": "code",
   "execution_count": null,
   "metadata": {
    "colab": {
     "base_uri": "https://localhost:8080/"
    },
    "id": "-8LFGB2xnhhM",
    "outputId": "fa2182d0-b06c-4f87-cf0a-4741fc5c921f"
   },
   "outputs": [
    {
     "data": {
      "text/plain": [
       "185.67924528301887"
      ]
     },
     "execution_count": 35,
     "metadata": {
      "tags": []
     },
     "output_type": "execute_result"
    }
   ],
   "source": [
    "promedio_opor_vendedor = df_sellers.groupby('Opportunity_Owner')['Stage'].count().mean()\n",
    "promedio_opor_vendedor"
   ]
  },
  {
   "cell_type": "code",
   "execution_count": null,
   "metadata": {
    "id": "3DVx-iM8n-9Z"
   },
   "outputs": [],
   "source": [
    "# Repetimos mismos cálculos de antes, pero quedandonos únicamente con los vendedores\n",
    "# que tengan asociados más de 185 oportunidades.\n",
    "\n",
    "df_sellers['cant_oport'] = df_sellers.groupby('Opportunity_Owner')['Stage'].transform('count')"
   ]
  },
  {
   "cell_type": "code",
   "execution_count": null,
   "metadata": {
    "id": "r7r-NCqloFoG"
   },
   "outputs": [],
   "source": [
    "df_sellers_filtrado = df_sellers.loc[df_sellers['cant_oport'] >= promedio_opor_vendedor]"
   ]
  },
  {
   "cell_type": "code",
   "execution_count": null,
   "metadata": {
    "colab": {
     "base_uri": "https://localhost:8080/"
    },
    "id": "Ywo-FJPaoNBz",
    "outputId": "2ab0c486-bbaf-450e-b509-443b5d843b12"
   },
   "outputs": [
    {
     "data": {
      "text/html": [
       "<div>\n",
       "<style scoped>\n",
       "    .dataframe tbody tr th:only-of-type {\n",
       "        vertical-align: middle;\n",
       "    }\n",
       "\n",
       "    .dataframe tbody tr th {\n",
       "        vertical-align: top;\n",
       "    }\n",
       "\n",
       "    .dataframe thead th {\n",
       "        text-align: right;\n",
       "    }\n",
       "</style>\n",
       "<table border=\"1\" class=\"dataframe\">\n",
       "  <thead>\n",
       "    <tr style=\"text-align: right;\">\n",
       "      <th></th>\n",
       "      <th>prom_lost</th>\n",
       "      <th>prom_won</th>\n",
       "      <th>prom_proposal</th>\n",
       "      <th>prom_qualification</th>\n",
       "      <th>prom_negotiation</th>\n",
       "    </tr>\n",
       "    <tr>\n",
       "      <th>Opportunity_Owner</th>\n",
       "      <th></th>\n",
       "      <th></th>\n",
       "      <th></th>\n",
       "      <th></th>\n",
       "      <th></th>\n",
       "    </tr>\n",
       "  </thead>\n",
       "  <tbody>\n",
       "    <tr>\n",
       "      <th>Person_Name_19</th>\n",
       "      <td>0.03</td>\n",
       "      <td>0.97</td>\n",
       "      <td>0.00</td>\n",
       "      <td>0.00</td>\n",
       "      <td>0.00</td>\n",
       "    </tr>\n",
       "    <tr>\n",
       "      <th>Person_Name_32</th>\n",
       "      <td>0.23</td>\n",
       "      <td>0.77</td>\n",
       "      <td>0.00</td>\n",
       "      <td>0.00</td>\n",
       "      <td>0.00</td>\n",
       "    </tr>\n",
       "    <tr>\n",
       "      <th>Person_Name_64</th>\n",
       "      <td>0.31</td>\n",
       "      <td>0.67</td>\n",
       "      <td>0.01</td>\n",
       "      <td>0.00</td>\n",
       "      <td>0.00</td>\n",
       "    </tr>\n",
       "    <tr>\n",
       "      <th>Person_Name_66</th>\n",
       "      <td>0.33</td>\n",
       "      <td>0.65</td>\n",
       "      <td>0.00</td>\n",
       "      <td>0.02</td>\n",
       "      <td>0.00</td>\n",
       "    </tr>\n",
       "    <tr>\n",
       "      <th>Person_Name_50</th>\n",
       "      <td>0.37</td>\n",
       "      <td>0.62</td>\n",
       "      <td>0.00</td>\n",
       "      <td>0.00</td>\n",
       "      <td>0.01</td>\n",
       "    </tr>\n",
       "    <tr>\n",
       "      <th>Person_Name_13</th>\n",
       "      <td>0.43</td>\n",
       "      <td>0.57</td>\n",
       "      <td>0.00</td>\n",
       "      <td>0.00</td>\n",
       "      <td>0.00</td>\n",
       "    </tr>\n",
       "    <tr>\n",
       "      <th>Person_Name_8</th>\n",
       "      <td>0.44</td>\n",
       "      <td>0.56</td>\n",
       "      <td>0.00</td>\n",
       "      <td>0.00</td>\n",
       "      <td>0.00</td>\n",
       "    </tr>\n",
       "    <tr>\n",
       "      <th>Person_Name_23</th>\n",
       "      <td>0.44</td>\n",
       "      <td>0.56</td>\n",
       "      <td>0.00</td>\n",
       "      <td>0.00</td>\n",
       "      <td>0.00</td>\n",
       "    </tr>\n",
       "    <tr>\n",
       "      <th>Person_Name_49</th>\n",
       "      <td>0.46</td>\n",
       "      <td>0.53</td>\n",
       "      <td>0.00</td>\n",
       "      <td>0.00</td>\n",
       "      <td>0.00</td>\n",
       "    </tr>\n",
       "    <tr>\n",
       "      <th>Person_Name_18</th>\n",
       "      <td>0.52</td>\n",
       "      <td>0.48</td>\n",
       "      <td>0.00</td>\n",
       "      <td>0.00</td>\n",
       "      <td>0.00</td>\n",
       "    </tr>\n",
       "  </tbody>\n",
       "</table>\n",
       "</div>"
      ],
      "text/plain": [
       "                             prom_lost  ...     prom_negotiation\n",
       "Opportunity_Owner                       ...                     \n",
       "Person_Name_19                    0.03  ...                 0.00\n",
       "Person_Name_32                    0.23  ...                 0.00\n",
       "Person_Name_64                    0.31  ...                 0.00\n",
       "Person_Name_66                    0.33  ...                 0.00\n",
       "Person_Name_50                    0.37  ...                 0.01\n",
       "Person_Name_13                    0.43  ...                 0.00\n",
       "Person_Name_8                     0.44  ...                 0.00\n",
       "Person_Name_23                    0.44  ...                 0.00\n",
       "Person_Name_49                    0.46  ...                 0.00\n",
       "Person_Name_18                    0.52  ...                 0.00\n",
       "\n",
       "[10 rows x 5 columns]"
      ]
     },
     "execution_count": 38,
     "metadata": {
      "tags": []
     },
     "output_type": "execute_result"
    }
   ],
   "source": [
    "opportunityStages = df_sellers_filtrado.groupby('Opportunity_Owner')[\"Stage\"]\n",
    "opportunityStages = opportunityStages.value_counts() / opportunityStages.count()\n",
    "opportunityStages = opportunityStages.to_frame().unstack().fillna(0)\n",
    "opportunityStages.columns = ['prom_lost','prom_won','prom_proposal','prom_qualification','prom_negotiation']\n",
    "opportunityStages.nlargest(10,'prom_won')"
   ]
  },
  {
   "cell_type": "markdown",
   "metadata": {
    "id": "0Ao2P5XJoVEz"
   },
   "source": [
    "Conclusión: Podemos ver que el resultado cambio, pero consideramos a estos últimos más representativos ya que no estamos teniendo en cuenta a los vendedores con pocos registros asociados.\n"
   ]
  },
  {
   "cell_type": "markdown",
   "metadata": {
    "id": "ze3uKe-5p_kY"
   },
   "source": [
    "Ahora hacemos un analisis análogo pero para los peores vendedores, aquellos que tienen mas casos perdidos"
   ]
  },
  {
   "cell_type": "code",
   "execution_count": null,
   "metadata": {
    "colab": {
     "base_uri": "https://localhost:8080/"
    },
    "id": "xE92LWq4qIp6",
    "outputId": "9c8d5883-613b-4e69-afc4-ff489f853ff0"
   },
   "outputs": [
    {
     "data": {
      "text/html": [
       "<div>\n",
       "<style scoped>\n",
       "    .dataframe tbody tr th:only-of-type {\n",
       "        vertical-align: middle;\n",
       "    }\n",
       "\n",
       "    .dataframe tbody tr th {\n",
       "        vertical-align: top;\n",
       "    }\n",
       "\n",
       "    .dataframe thead th {\n",
       "        text-align: right;\n",
       "    }\n",
       "</style>\n",
       "<table border=\"1\" class=\"dataframe\">\n",
       "  <thead>\n",
       "    <tr style=\"text-align: right;\">\n",
       "      <th></th>\n",
       "      <th>prom_lost</th>\n",
       "      <th>prom_won</th>\n",
       "      <th>prom_proposal</th>\n",
       "      <th>prom_qualification</th>\n",
       "      <th>prom_negotiation</th>\n",
       "    </tr>\n",
       "    <tr>\n",
       "      <th>Opportunity_Owner</th>\n",
       "      <th></th>\n",
       "      <th></th>\n",
       "      <th></th>\n",
       "      <th></th>\n",
       "      <th></th>\n",
       "    </tr>\n",
       "  </thead>\n",
       "  <tbody>\n",
       "    <tr>\n",
       "      <th>Person_Name_60</th>\n",
       "      <td>0.75</td>\n",
       "      <td>0.25</td>\n",
       "      <td>0.00</td>\n",
       "      <td>0.00</td>\n",
       "      <td>0.01</td>\n",
       "    </tr>\n",
       "    <tr>\n",
       "      <th>Person_Name_16</th>\n",
       "      <td>0.73</td>\n",
       "      <td>0.27</td>\n",
       "      <td>0.00</td>\n",
       "      <td>0.00</td>\n",
       "      <td>0.00</td>\n",
       "    </tr>\n",
       "    <tr>\n",
       "      <th>Person_Name_3</th>\n",
       "      <td>0.71</td>\n",
       "      <td>0.29</td>\n",
       "      <td>0.00</td>\n",
       "      <td>0.00</td>\n",
       "      <td>0.00</td>\n",
       "    </tr>\n",
       "    <tr>\n",
       "      <th>Person_Name_43</th>\n",
       "      <td>0.69</td>\n",
       "      <td>0.30</td>\n",
       "      <td>0.00</td>\n",
       "      <td>0.00</td>\n",
       "      <td>0.00</td>\n",
       "    </tr>\n",
       "    <tr>\n",
       "      <th>Person_Name_46</th>\n",
       "      <td>0.65</td>\n",
       "      <td>0.35</td>\n",
       "      <td>0.00</td>\n",
       "      <td>0.00</td>\n",
       "      <td>0.00</td>\n",
       "    </tr>\n",
       "    <tr>\n",
       "      <th>Person_Name_4</th>\n",
       "      <td>0.56</td>\n",
       "      <td>0.43</td>\n",
       "      <td>0.00</td>\n",
       "      <td>0.00</td>\n",
       "      <td>0.00</td>\n",
       "    </tr>\n",
       "    <tr>\n",
       "      <th>Person_Name_18</th>\n",
       "      <td>0.52</td>\n",
       "      <td>0.48</td>\n",
       "      <td>0.00</td>\n",
       "      <td>0.00</td>\n",
       "      <td>0.00</td>\n",
       "    </tr>\n",
       "    <tr>\n",
       "      <th>Person_Name_49</th>\n",
       "      <td>0.46</td>\n",
       "      <td>0.53</td>\n",
       "      <td>0.00</td>\n",
       "      <td>0.00</td>\n",
       "      <td>0.00</td>\n",
       "    </tr>\n",
       "    <tr>\n",
       "      <th>Person_Name_23</th>\n",
       "      <td>0.44</td>\n",
       "      <td>0.56</td>\n",
       "      <td>0.00</td>\n",
       "      <td>0.00</td>\n",
       "      <td>0.00</td>\n",
       "    </tr>\n",
       "    <tr>\n",
       "      <th>Person_Name_8</th>\n",
       "      <td>0.44</td>\n",
       "      <td>0.56</td>\n",
       "      <td>0.00</td>\n",
       "      <td>0.00</td>\n",
       "      <td>0.00</td>\n",
       "    </tr>\n",
       "  </tbody>\n",
       "</table>\n",
       "</div>"
      ],
      "text/plain": [
       "                             prom_lost  ...     prom_negotiation\n",
       "Opportunity_Owner                       ...                     \n",
       "Person_Name_60                    0.75  ...                 0.01\n",
       "Person_Name_16                    0.73  ...                 0.00\n",
       "Person_Name_3                     0.71  ...                 0.00\n",
       "Person_Name_43                    0.69  ...                 0.00\n",
       "Person_Name_46                    0.65  ...                 0.00\n",
       "Person_Name_4                     0.56  ...                 0.00\n",
       "Person_Name_18                    0.52  ...                 0.00\n",
       "Person_Name_49                    0.46  ...                 0.00\n",
       "Person_Name_23                    0.44  ...                 0.00\n",
       "Person_Name_8                     0.44  ...                 0.00\n",
       "\n",
       "[10 rows x 5 columns]"
      ]
     },
     "execution_count": 39,
     "metadata": {
      "tags": []
     },
     "output_type": "execute_result"
    }
   ],
   "source": [
    "opportunityStages.nlargest(10,'prom_lost')"
   ]
  },
  {
   "cell_type": "markdown",
   "metadata": {
    "id": "iKLHvWw6I1PZ"
   },
   "source": [
    "## Análisis sobre la Clientela\n",
    "\n",
    "Para realizar los gráficos de esta sección, se usó Flourish."
   ]
  },
  {
   "cell_type": "code",
   "execution_count": null,
   "metadata": {
    "id": "kZqnJZbiJNHz"
   },
   "outputs": [],
   "source": [
    "los15ClientesConMasOport = entrenamientoDfProcesado[['Account_Name','Opportunity_Name']]\\\n",
    "                            .drop_duplicates(subset='Opportunity_Name')\\\n",
    "                            .groupby('Account_Name').count().nlargest(15,'Opportunity_Name')\\\n",
    "                            .rename(columns={'Opportunity_Name':'cant_oportunidades'}).reset_index()"
   ]
  },
  {
   "cell_type": "code",
   "execution_count": null,
   "metadata": {
    "id": "ONd8-c7_JYWf"
   },
   "outputs": [],
   "source": [
    "los15ClientesConMasOportWon = entrenamientoDfProcesado.loc[entrenamientoDfProcesado['Stage']=='Closed Won',\\\n",
    "                            ['Account_Name','Opportunity_Name']]\\\n",
    "                            .drop_duplicates(subset='Opportunity_Name')\\\n",
    "                            .groupby('Account_Name').count().nlargest(15,'Opportunity_Name')\\\n",
    "                            .rename(columns={'Opportunity_Name':'cant_oportunidades'}).reset_index()"
   ]
  },
  {
   "cell_type": "code",
   "execution_count": null,
   "metadata": {
    "id": "YMXGnOJjJe2x"
   },
   "outputs": [],
   "source": [
    "los15ClientesConMasOportLost = entrenamientoDfProcesado.loc[entrenamientoDfProcesado['Stage']=='Closed Lost',\\\n",
    "                            ['Account_Name','Opportunity_Name']]\\\n",
    "                            .drop_duplicates(subset='Opportunity_Name')\\\n",
    "                            .groupby('Account_Name').count().nlargest(15,'Opportunity_Name')\\\n",
    "                            .rename(columns={'Opportunity_Name':'cant_oportunidades'}).reset_index()"
   ]
  },
  {
   "cell_type": "code",
   "execution_count": null,
   "metadata": {
    "id": "yALxwF36JjLP"
   },
   "outputs": [],
   "source": [
    "los15ClientesMasRedituables = df_closed_won[['Account_Name','Total_Taxable_Amount_Millions_USD',\\\n",
    "                                             'Opportunity_Name']]\\\n",
    "                            .drop_duplicates(subset='Opportunity_Name')\\\n",
    "                            .groupby('Account_Name').agg({'Total_Taxable_Amount_Millions_USD':'sum'})\\\n",
    "                            .nlargest(15,'Total_Taxable_Amount_Millions_USD')\\\n",
    "                            .rename(columns={'Total_Taxable_Amount_Millions_USD':'total_ventas_en_millones_USD'})\\\n",
    "                            .reset_index()"
   ]
  },
  {
   "cell_type": "markdown",
   "metadata": {
    "id": "7IxSdbECKEB-"
   },
   "source": [
    "## Restricciones Burocráticas que influyen en las ventas"
   ]
  },
  {
   "cell_type": "code",
   "execution_count": null,
   "metadata": {
    "id": "dAds7Q9vM46h"
   },
   "outputs": [],
   "source": [
    "world = gpd.read_file(gpd.datasets.get_path('naturalearth_lowres'))"
   ]
  },
  {
   "cell_type": "code",
   "execution_count": null,
   "metadata": {
    "id": "aidEBB0pNDeL"
   },
   "outputs": [],
   "source": [
    "# primero me quedo únicamente con los casos cerrados y pérdidos y cerrados y ganados\n",
    "\n",
    "casosPerdidosYGanados = entrenamientoDfProcesado[(entrenamientoDfProcesado[\"Stage\"] == 'Closed Lost') |\\\n",
    "                                        (entrenamientoDfProcesado[\"Stage\"] == 'Closed Won')]"
   ]
  },
  {
   "cell_type": "markdown",
   "metadata": {
    "id": "MjQ918axLXqv"
   },
   "source": [
    "Analizamos el caso en el que se necesita código burocrático"
   ]
  },
  {
   "cell_type": "code",
   "execution_count": null,
   "metadata": {
    "id": "rLX0pBSwKlCF"
   },
   "outputs": [],
   "source": [
    "perdidosYGanadosNecesitanCod = casosPerdidosYGanados\\\n",
    "                        [casosPerdidosYGanados[\"Bureaucratic_Code_0_Approval\"] == 1]\\\n",
    "                        .drop_duplicates(subset=\"Opportunity_ID\")\n",
    "\n",
    "casosPerdidos = perdidosYGanadosNecesitanCod[\"Stage\"].value_counts()[1]\n",
    "\n",
    "porcentajeDePerdidas = round(casosPerdidos / len(casosPerdidosYGanados),4)\n",
    "\n",
    "porcentajesPorBillingCountryConCod = perdidosYGanadosNecesitanCod.groupby(\"Billing_Country\").\\\n",
    "                                agg({\"Stage\": [lambda x: (x==\"Closed Won\").sum() ,\"count\"]})\n",
    "porcentajesPorBillingCountryConCod.columns = [\"count_casos_ganados\",\"cantidad_total_casos\"]\n",
    "\n",
    "porcentajesPorBillingCountryConCod[\"porcentaje_ganados\"] = \\\n",
    "                porcentajesPorBillingCountryConCod[\"count_casos_ganados\"] / \\\n",
    "                porcentajesPorBillingCountryConCod[\"cantidad_total_casos\"]\n",
    "\n",
    "porcentajesPorBillingCountryConCod[\"porcentaje_perdidos_con_codigo\"] = \\\n",
    "                1 - porcentajesPorBillingCountryConCod[\"porcentaje_ganados\"]"
   ]
  },
  {
   "cell_type": "code",
   "execution_count": null,
   "metadata": {
    "id": "TQxEJ5Q1Lqr4"
   },
   "outputs": [],
   "source": [
    "porcentajesPorBillingCountryConCod = porcentajesPorBillingCountryConCod.reset_index()\n",
    "\n",
    "# filtramos para no caer en la Ecuación más Peligrosa de la Historia\n",
    "porcentajesFilter = porcentajesPorBillingCountryConCod[porcentajesPorBillingCountryConCod \\\n",
    "                    [\"cantidad_total_casos\"] > 5]\n",
    "porcentajesPorBillingCountryConCodShorted = porcentajesFilter \\\n",
    "                                        [['Billing_Country','porcentaje_perdidos_con_codigo',\\\n",
    "                                          'cantidad_total_casos']]\n",
    "porcentajesPorBillingCountryConCodShorted = porcentajesPorBillingCountryConCodShorted.replace \\\n",
    "                                    ('United States', 'United States of America')\n",
    "worldShorted = world[['name','geometry']]\n",
    "map_1 = porcentajesPorBillingCountryConCodShorted.merge(worldShorted, how='right',right_on='name', \\\n",
    "                                        left_on='Billing_Country').fillna(0)\n",
    "gdf = gpd.GeoDataFrame(map_1)                                        "
   ]
  },
  {
   "cell_type": "code",
   "execution_count": null,
   "metadata": {
    "colab": {
     "base_uri": "https://localhost:8080/"
    },
    "id": "8B-ddHY5Lzzi",
    "outputId": "323cf3c7-1df3-43be-a2b5-9047c2701027"
   },
   "outputs": [
    {
     "data": {
      "image/png": "[encoded data removed]",
      "text/plain": [
       "<Figure size 864x576 with 2 Axes>"
      ]
     },
     "metadata": {
      "needs_background": "light",
      "tags": []
     },
     "output_type": "display_data"
    }
   ],
   "source": [
    "# Graficamos utilizando GeoPandas\n",
    "fig, ax = plt.subplots(figsize  = (12, 8))\n",
    "\n",
    "gdf.plot(column='porcentaje_perdidos_con_codigo', \\\n",
    "          figsize=(15, 10), \\\n",
    "          cmap='OrRd', \\\n",
    "          edgecolor=\"black\", \\\n",
    "          legend=True, \\\n",
    "          legend_kwds={'label': \"Porcentaje de casos perdidos si se necesita código burocrático\",\\\n",
    "                       'orientation':\"horizontal\",'shrink': 0.8},\n",
    "            ax=ax)\n",
    "\n",
    "ax.set_title(\"Restricciones burocráticas que influyen en las ventas\", fontsize=25)\n",
    "ax.set_axis_off()"
   ]
  },
  {
   "cell_type": "markdown",
   "metadata": {
    "id": "ILZnPkzWLnJT"
   },
   "source": [
    "Analizamos el caso en el que no se necesita código burocrático"
   ]
  },
  {
   "cell_type": "code",
   "execution_count": null,
   "metadata": {
    "id": "yk3cgBogLLgl"
   },
   "outputs": [],
   "source": [
    "perdidosYGanadosNoNecesitanCod = casosPerdidosYGanados\\\n",
    "                        [casosPerdidosYGanados[\"Bureaucratic_Code_0_Approval\"] == 0]\\\n",
    "                        .drop_duplicates(subset=\"Opportunity_ID\")\n",
    "\n",
    "casosPerdidos = perdidosYGanadosNoNecesitanCod[\"Stage\"].value_counts()[1]\n",
    "\n",
    "porcentajeDePerdidas = round(casosPerdidos / len(casosPerdidosYGanados),4)\n",
    "\n",
    "porcentajesPorBillingCountrySinCod = perdidosYGanadosNoNecesitanCod.groupby(\"Billing_Country\").\\\n",
    "                                agg({\"Stage\": [lambda x: (x==\"Closed Won\").sum() ,\"count\"]})\n",
    "porcentajesPorBillingCountrySinCod.columns = [\"count_casos_ganados\",\"cantidad_total_casos\"]\n",
    "\n",
    "porcentajesPorBillingCountrySinCod[\"porcentaje_ganados\"] = \\\n",
    "                porcentajesPorBillingCountrySinCod[\"count_casos_ganados\"] / \\\n",
    "                porcentajesPorBillingCountrySinCod[\"cantidad_total_casos\"]\n",
    "\n",
    "porcentajesPorBillingCountrySinCod[\"porcentaje_perdido_sin_codigo\"] = \\\n",
    "                1 - porcentajesPorBillingCountrySinCod[\"porcentaje_ganados\"]\n"
   ]
  },
  {
   "cell_type": "code",
   "execution_count": null,
   "metadata": {
    "id": "hwMYUvFSNHaT"
   },
   "outputs": [],
   "source": [
    "porcentajesPorBillingCountrySinCod = porcentajesPorBillingCountrySinCod.reset_index()\n",
    "\n",
    "porcentajesSinCodFilter = porcentajesPorBillingCountrySinCod[porcentajesPorBillingCountrySinCod \\\n",
    "                    [\"cantidad_total_casos\"] > 5]\n",
    "\n",
    "porcentajesPorBillingCountrySinCodShorted = porcentajesSinCodFilter \\\n",
    "                                        [['Billing_Country','porcentaje_perdido_sin_codigo',\n",
    "                                        'cantidad_total_casos']]\n",
    "\n",
    "porcentajesPorBillingCountrySinCodShorted = porcentajesPorBillingCountrySinCodShorted.replace \\\n",
    "                                    ('United States', 'United States of America')\n",
    "\n",
    "map_2 = porcentajesPorBillingCountrySinCodShorted.merge(worldShorted, how='right',right_on='name', \\\n",
    "                                        left_on='Billing_Country').fillna(0)"
   ]
  },
  {
   "cell_type": "code",
   "execution_count": null,
   "metadata": {
    "colab": {
     "base_uri": "https://localhost:8080/"
    },
    "id": "Z_FplfMNNJll",
    "outputId": "403edf35-524c-4bea-8965-7010340f608d"
   },
   "outputs": [
    {
     "data": {
      "image/png": "[encoded data removed]",
      "text/plain": [
       "<Figure size 864x576 with 2 Axes>"
      ]
     },
     "metadata": {
      "needs_background": "light",
      "tags": []
     },
     "output_type": "display_data"
    }
   ],
   "source": [
    "gdf_2 = gpd.GeoDataFrame(map_2)\n",
    "\n",
    "fig, ax = plt.subplots(figsize  = (12, 8))\n",
    "\n",
    "gdf_2.plot(column='porcentaje_perdido_sin_codigo', \\\n",
    "          figsize=(15, 10), \\\n",
    "          cmap='OrRd', \\\n",
    "          edgecolor=\"black\", \\\n",
    "          legend=True, \\\n",
    "          legend_kwds={'label': \"Porcentaje de casos perdidos si no se necesita código burocrático\",\\\n",
    "                       'orientation':\"horizontal\",'shrink': 0.8},\n",
    "            ax=ax)\n",
    "\n",
    "ax.set_title(\"Restricciones burocráticas que influyen en las ventas\", fontsize=25)\n",
    "ax.set_axis_off()"
   ]
  },
  {
   "cell_type": "markdown",
   "metadata": {
    "id": "KGCo0V-jNSjm"
   },
   "source": [
    "Procedemos a comparar los porcentajes mostrados en los dos mapas anteriores."
   ]
  },
  {
   "cell_type": "code",
   "execution_count": null,
   "metadata": {
    "id": "z2fPAFK0NL61"
   },
   "outputs": [],
   "source": [
    "dfComparativoPorcentajes = map_1[['Billing_Country','porcentaje_perdidos_con_codigo']]\\\n",
    "                            .merge(map_2[['Billing_Country','porcentaje_perdido_sin_codigo']],\\\n",
    "                            on='Billing_Country')\n",
    "\n",
    "# limpio el DataFrame que se utilizo para graficar los mapas\n",
    "dfComparativoPorcentajes = dfComparativoPorcentajes.\\\n",
    "                            loc[dfComparativoPorcentajes['Billing_Country']!=0]                            "
   ]
  },
  {
   "cell_type": "code",
   "execution_count": null,
   "metadata": {
    "id": "Fvv7wAYsNhCB"
   },
   "outputs": [],
   "source": [
    "# Formateo el DataFrame para poder utilizarlo en Flourish y cumplir el formato\n",
    "# que requiere el gráfico que quiero hacer.\n",
    "\n",
    "perdidosConCodigo = dfComparativoPorcentajes[['Billing_Country','porcentaje_perdidos_con_codigo']]\n",
    "perdidosConCodigo['necesita_codigo'] = \"SI\"\n",
    "perdidosConCodigo = perdidosConCodigo.rename(columns={'porcentaje_perdidos_con_codigo':'porcentaje'})\n",
    "\n",
    "perdidosSinCodigo = dfComparativoPorcentajes[['Billing_Country','porcentaje_perdido_sin_codigo']]\n",
    "perdidosSinCodigo['necesita_codigo'] = \"NO\"\n",
    "perdidosSinCodigo = perdidosSinCodigo.rename(columns={'porcentaje_perdido_sin_codigo':'porcentaje'})\n",
    "\n",
    "dfComparativoPorcentajesSegunCodBurocratico = pd.concat([perdidosConCodigo, perdidosSinCodigo])"
   ]
  },
  {
   "cell_type": "markdown",
   "metadata": {
    "id": "BAOYtLWbOLqb"
   },
   "source": [
    "[texto del enlace](https://)## Performance de la Empresa a lo largo del tiempo"
   ]
  },
  {
   "cell_type": "code",
   "execution_count": null,
   "metadata": {
    "id": "aYtqQIbdONyH"
   },
   "outputs": [],
   "source": [
    "entrenamientoShorted = entrenamientoDfProcesado[['ID','Opportunity_Created_Date',\"Opportunity_ID\"]].drop_duplicates(subset=[\"Opportunity_ID\"])\n",
    "entrenamientoShorted['Opportunity_Created_Date'] = pd.to_datetime(entrenamientoShorted['Opportunity_Created_Date'], errors='coerce')\n",
    "entrenamientoShorted['Month'] = entrenamientoShorted['Opportunity_Created_Date'].dt.month\n",
    "entrenamientoShorted['Year'] = entrenamientoShorted['Opportunity_Created_Date'].dt.year\n",
    "groupedByYearAndMonth = entrenamientoShorted.groupby(['Year','Month']).agg({'ID':'count'})\n",
    "groupedByYearAndMonth.columns = ['cant_oportunidades']\n",
    "groupedByYearAndMonthResetIndex = groupedByYearAndMonth.reset_index()"
   ]
  },
  {
   "cell_type": "code",
   "execution_count": null,
   "metadata": {
    "id": "SzfZAhY5OhIt"
   },
   "outputs": [],
   "source": [
    "sin2013 = groupedByYearAndMonthResetIndex[groupedByYearAndMonthResetIndex['Year']!=2013]\n",
    "oportPorMesPorAño = sin2013.pivot(\"Month\", \"Year\", \"cant_oportunidades\")\n",
    "oportPorMesPorAño.fillna(0, inplace=True)"
   ]
  },
  {
   "cell_type": "markdown",
   "metadata": {
    "id": "UIwzjnk_Oxsr"
   },
   "source": [
    "¿Qué mes se generaron mas oportunidades?"
   ]
  },
  {
   "cell_type": "code",
   "execution_count": null,
   "metadata": {
    "id": "UPPfAPz9OtQQ"
   },
   "outputs": [],
   "source": [
    "oportGeneradasPorMes = entrenamientoShorted.groupby('Month').agg({'Opportunity_ID':'count'})\n",
    "oportGeneradasPorMes.reset_index(inplace=True)\n",
    "oportGeneradasPorMes.rename(columns={\"Opportunity_ID\":\"cant_oport\"},inplace=True)"
   ]
  },
  {
   "cell_type": "code",
   "execution_count": null,
   "metadata": {
    "id": "fgl4I7ETPToK"
   },
   "outputs": [],
   "source": [
    "# Conversión necesaria para poder graficar en Flourish\n",
    "meses = [\"Ene\", \"Feb\", \"Mar\", \"Abr\", \"May\", \"Jun\", \"Jul\", \"Ago\", \"Sep\", \"Oct\", \"Nov\", \"Dic\"]\n",
    "oportGeneradasPorMes['Month'] = meses"
   ]
  },
  {
   "cell_type": "markdown",
   "metadata": {
    "id": "p1Nhy9PhPfZ5"
   },
   "source": [
    "Vemos en que estado estan las oportunidades según el año"
   ]
  },
  {
   "cell_type": "code",
   "execution_count": null,
   "metadata": {
    "id": "Of6ova1oPd4f"
   },
   "outputs": [],
   "source": [
    "stagePorAño = entrenamientoDfProcesado[['ID','Opportunity_Created_Date',\"Opportunity_ID\", \"Stage\"]].\\\n",
    "                drop_duplicates(subset=[\"Opportunity_ID\"])"
   ]
  },
  {
   "cell_type": "code",
   "execution_count": null,
   "metadata": {
    "id": "FujozP34Pmqw"
   },
   "outputs": [],
   "source": [
    "stagePorAño['Opportunity_Created_Date'] = pd.to_datetime(stagePorAño['Opportunity_Created_Date'], errors='coerce')\n",
    "stagePorAño['Month'] = stagePorAño['Opportunity_Created_Date'].dt.month\n",
    "stagePorAño['Year'] = stagePorAño['Opportunity_Created_Date'].dt.year\n",
    "stagePorAño = stagePorAño[stagePorAño['Year']!=2013]\n",
    "stagePorAño = stagePorAño[(stagePorAño['Stage']=='Closed Won') | (stagePorAño['Stage'] == 'Closed Lost')]\n",
    "grouped = stagePorAño.groupby(['Year','Stage']).agg({'ID':'count'})\n",
    "groupedFinal = grouped.reset_index().rename(columns={'ID':'cant_oport'})\n",
    "groupedFinal = groupedFinal.pivot(index='Year', columns='Stage', values='cant_oport').reset_index()"
   ]
  },
  {
   "cell_type": "markdown",
   "metadata": {
    "id": "cT9f4WvbYvoE"
   },
   "source": []
  },
  {
   "cell_type": "markdown",
   "metadata": {
    "id": "v2aLEDWtdiKZ"
   },
   "source": [
    "## Analisis sobre Regiones"
   ]
  },
  {
   "cell_type": "markdown",
   "metadata": {
    "id": "6ZwDtx0fd1Nj"
   },
   "source": [
    "### Porcentaje de oportunidades segun region"
   ]
  },
  {
   "cell_type": "code",
   "execution_count": null,
   "metadata": {
    "id": "4xoNvCx8d4GK"
   },
   "outputs": [],
   "source": [
    "# Pregunta: Cual es la relacion entre la cantidad de casos con casos cerrados de manera exitosa por region ?\n",
    "auxiliar_df = entrenamientoDfProcesado\n",
    "\n",
    "#Eliminamos los Opportunity_Name duplicados para tener la cantidad neta de oportunidades\n",
    "auxiliar_df = auxiliar_df.drop_duplicates(subset='Opportunity_Name')\n",
    "\n",
    "# Nos guardamos en la columna Stage_Won los casos terminados en Closed Won\n",
    "auxiliar_df[\"Stage_Won\"] = auxiliar_df[\"Stage\"] == \"Closed Won\"\n",
    "auxiliar_df[\"Stage_Lost\"] = auxiliar_df[\"Stage\"] == \"Closed Lost\"\n",
    "\n",
    "# Agrupo segun region y sus cantidades de Stages y Stages_Won\n",
    "#casos_segun_region = auxiliar_df.groupby([\"Region\"]).agg({\"Stage\": \"count\", \"Stage_Won\" : \"count\"})\n",
    "casos_ganados_segun_region = auxiliar_df.groupby([\"Region\"]).agg({\"Stage_Won\" : ['mean']}).reset_index()\n",
    "\n",
    "\n",
    "casos_perdidos_segun_region =  auxiliar_df.groupby([\"Region\"]).agg({\"Stage_Lost\" : ['mean']}).reset_index()\n",
    "\n",
    "porcentaje_ganados_perdidos_region = casos_perdidos_segun_region.merge(casos_ganados_segun_region)\n",
    "porcentaje_ganados_perdidos_region[\"Other\"] = 1 - (porcentaje_ganados_perdidos_region[\"Stage_Won\"] + porcentaje_ganados_perdidos_region[\"Stage_Lost\"])\n",
    "porcentaje_ganados_perdidos_region.to_csv(\"porcentaje_stages_regiones.csv\")"
   ]
  },
  {
   "cell_type": "markdown",
   "metadata": {
    "id": "Ph3eGD4udyOr"
   },
   "source": [
    "### Oportunidades perdidas por region"
   ]
  },
  {
   "cell_type": "code",
   "execution_count": null,
   "metadata": {
    "id": "LnPgp5oveZhF"
   },
   "outputs": [],
   "source": [
    "#Analisis casos perdidos region\n",
    "casos_perdidos_segun_region = auxiliar_df.groupby([\"Region\"]).agg({\"Stage_Lost\" : ['sum']})\n",
    "casos_perdidos_segun_region.columns = ['Oportunidades perdidas']\n",
    "casos_perdidos_segun_region.to_csv(\"casos_perdidos_segun_region.csv\")"
   ]
  },
  {
   "cell_type": "markdown",
   "metadata": {
    "id": "tZr0VTFGdmmq"
   },
   "source": [
    "### Relacion oportunidades ganadas y totales"
   ]
  },
  {
   "cell_type": "code",
   "execution_count": null,
   "metadata": {
    "id": "svDpuX9vecVb"
   },
   "outputs": [],
   "source": [
    "#Grafico mejorado\n",
    "plt.figure(figsize=(15,8))\n",
    "\n",
    "x = casos_ganados_segun_region.index\n",
    "y = casos_ganados_segun_region['Casos ganados']\n",
    "z = casos_ganados_segun_region['Cantidad de oportunidades']\n",
    "\n",
    "relacion_totales_ganadas_plot = plt.subplot(111)\n",
    "relacion_totales_ganadas_plot.bar(x, z, width=0.5, color='lightseagreen', align='center')\n",
    "relacion_totales_ganadas_plot.bar(x, y, width=0.5, color='tab:green', align='center')\n",
    "\n",
    "relacion_totales_ganadas_plot.set_title('Relacion entre oportunidades ganadas y totales por region',fontsize=25)\n",
    "relacion_totales_ganadas_plot.set_xlabel(\"Region\",fontsize=15)\n",
    "relacion_totales_ganadas_plot.set_ylabel(\"Cantidad\",fontsize=15)\n",
    "relacion_totales_ganadas_plot.legend(['Total de oportunidades','Casos ganados'],fontsize=15)\n"
   ]
  },
  {
   "cell_type": "markdown",
   "metadata": {
    "id": "y-rYgZhJPIyU"
   },
   "source": [
    "## Analisis de productos"
   ]
  },
  {
   "cell_type": "markdown",
   "metadata": {
    "id": "QTokpmX9-7tL"
   },
   "source": [
    "\n",
    "### Analisis de las familias de productos\n"
   ]
  },
  {
   "cell_type": "code",
   "execution_count": null,
   "metadata": {
    "id": "x_MoQrcYCQzX"
   },
   "outputs": [],
   "source": [
    "familiaDeProductos = entrenamientoDfProcesado[[\"Stage\",\"Product_Family\",\"Product_Name\",\"Opportunity_Created_Date\",\"Region\"]]\n",
    "familiaDeProductos = familiaDeProductos[familiaDeProductos[\"Stage\"].eq(\"Closed Won\")]\n",
    "familiaDeProductos"
   ]
  },
  {
   "cell_type": "code",
   "execution_count": null,
   "metadata": {
    "id": "GS1MSLIZLN35"
   },
   "outputs": [],
   "source": [
    "familiaDeProductos = familiaDeProductos[familiaDeProductos[\"Stage\"].eq(\"Closed Won\")]\n",
    "ventasPorfamiliaDeProductosDf = familiaDeProductos.groupby([\"Product_Family\",\"Product_Name\"]).agg({\"Stage\":\"count\"})\n",
    "ventasPorfamiliaDeProductosDf.columns = [\"Count_ventas\"]\n",
    "ventasPorfamiliaDeProductosDf[\"maximo_Count_en_Familia\"] = ventasPorfamiliaDeProductosDf.groupby(\"Product_Family\")[\"Count_ventas\"].transform(lambda x: x.max())\n",
    "ventasPorfamiliaDeProductosDf[ventasPorfamiliaDeProductosDf.Count_ventas == ventasPorfamiliaDeProductosDf.maximo_Count_en_Familia].nlargest(15,\"Count_ventas\")"
   ]
  },
  {
   "cell_type": "code",
   "execution_count": null,
   "metadata": {
    "id": "Ox07LJvCLRQZ"
   },
   "outputs": [],
   "source": [
    "familiaDeProductos[\"Opportunity_Year\"] = pd.to_datetime(familiaDeProductos[\"Opportunity_Created_Date\"]).dt.year"
   ]
  },
  {
   "cell_type": "code",
   "execution_count": null,
   "metadata": {
    "id": "xnRHGUebLSsA"
   },
   "outputs": [],
   "source": [
    "familiasMasVendidasPorAnio = familiaDeProductos.groupby([\"Opportunity_Year\",\"Product_Family\"]).agg({\"Product_Name\":\"count\"})\n",
    "familiasMasVendidasPorAnio.columns = [\"cantidad_ventas_total\"]\n",
    "familiasMasVendidasPorAnio.reset_index(inplace =  True)\n",
    "familiasMasVendidasPorAnio[\"cantidad_ventas_maxima\"] = familiasMasVendidasPorAnio[[\"Opportunity_Year\",\"cantidad_ventas_total\"]].groupby([\"Opportunity_Year\"]).cantidad_ventas_total.transform(\"max\")"
   ]
  },
  {
   "cell_type": "code",
   "execution_count": null,
   "metadata": {
    "id": "k90RV5sPLZe9"
   },
   "outputs": [],
   "source": [
    "familiasMasVendidasPorAnio_filtrado = familiasMasVendidasPorAnio[familiasMasVendidasPorAnio.cantidad_ventas_total >= familiasMasVendidasPorAnio.cantidad_ventas_maxima]\n",
    "familiasMasVendidasPorAnio_filtrado = familiasMasVendidasPorAnio_filtrado[[\"Opportunity_Year\",\"Product_Family\",\"cantidad_ventas_maxima\"]]\n",
    "familiasMasVendidasPorAnio_filtrado"
   ]
  },
  {
   "cell_type": "markdown",
   "metadata": {
    "id": "zfPkUCzKLc-b"
   },
   "source": [
    "### Análisis de distribucion de ventas de la mejor familia por region"
   ]
  },
  {
   "cell_type": "code",
   "execution_count": null,
   "metadata": {
    "id": "WK3RJI9fLflc"
   },
   "outputs": [],
   "source": [
    "familiasSerie = familiasMasVendidasPorAnio_filtrado.Product_Family.drop_duplicates()"
   ]
  },
  {
   "cell_type": "code",
   "execution_count": null,
   "metadata": {
    "id": "9bxQUIUsLjXH"
   },
   "outputs": [],
   "source": [
    "familiaDeProductos_short = familiaDeProductos[[\"Product_Family\",\"Opportunity_Created_Date\",\"Region\"]]"
   ]
  },
  {
   "cell_type": "code",
   "execution_count": null,
   "metadata": {
    "id": "JWB3R1LaLlxM"
   },
   "outputs": [],
   "source": [
    "familiaDeProductos_short[\"Opportunity_Year\"] = pd.to_datetime(familiaDeProductos_short[\"Opportunity_Created_Date\"]).dt.year\n",
    "familiaDeProductos_short = familiaDeProductos_short.merge(familiasSerie,how=\"inner\",on=\"Product_Family\")\n",
    "familiaDeProductos_short[\"Opportunity_Year\"] = familiaDeProductos_short[\"Opportunity_Year\"].astype(\"int64\")\n",
    "familiaDeProductos_short"
   ]
  },
  {
   "cell_type": "code",
   "execution_count": null,
   "metadata": {
    "id": "z4TJgo0aLms6"
   },
   "outputs": [],
   "source": [
    "# Analisis para el año 2014\n",
    "familiasMasVendidasEn2014 = familiaDeProductos_short[\"Product_Family\"].eq(\"Product_Family_158\")  | familiaDeProductos_short[\"Product_Family\"].eq(\"Product_Family_164\") \n",
    "opportunityYear2014 = familiaDeProductos_short[\"Opportunity_Year\"].eq(2014)\n",
    "familiaDeProductosMasVendidas2014 = familiaDeProductos_short[familiasMasVendidasEn2014 & opportunityYear2014]\n",
    "familiaDeProductosMasVendidas2014 = familiaDeProductosMasVendidas2014.groupby([\"Opportunity_Year\",\"Region\",\"Product_Family\"]).agg({\"Opportunity_Created_Date\":\"count\"}).reset_index()\n",
    "familiaDeProductosMasVendidas2014.columns = [\"Year\",\"Region\",\"Product_family\",\"ventas\"]\n",
    "familiaDeProductosMasVendidas2014"
   ]
  },
  {
   "cell_type": "code",
   "execution_count": null,
   "metadata": {
    "id": "h_sg3WR0M4ia"
   },
   "outputs": [],
   "source": [
    "# Analisis para el año 2015\n",
    "familiasMasVendidasEn2015 = familiaDeProductos_short[\"Product_Family\"].eq(\"Product_Family_77\") \n",
    "opportunityYear2015 = familiaDeProductos_short[\"Opportunity_Year\"].eq(2015)\n",
    "familiaDeProductosMasVendidas2015 = familiaDeProductos_short[familiasMasVendidasEn2015 & opportunityYear2015]\n",
    "familiaDeProductosMasVendidas2015 = familiaDeProductosMasVendidas2015.groupby([\"Opportunity_Year\",\"Region\",\"Product_Family\"]).agg({\"Opportunity_Created_Date\":\"count\"}).reset_index()\n",
    "familiaDeProductosMasVendidas2015.columns = [\"Year\",\"Region\",\"Product_family\",\"ventas\"]\n",
    "familiaDeProductosMasVendidas2015"
   ]
  },
  {
   "cell_type": "code",
   "execution_count": null,
   "metadata": {
    "id": "GhnXv4hvNC84"
   },
   "outputs": [],
   "source": [
    "# Analisis para el año 2016\n",
    "familiasMasVendidasEn2016 = familiaDeProductos_short[\"Product_Family\"].eq(\"Product_Family_77\") \n",
    "opportunityYear2016 = familiaDeProductos_short[\"Opportunity_Year\"].eq(2016)\n",
    "familiaDeProductosMasVendidas2016 = familiaDeProductos_short[familiasMasVendidasEn2016 & opportunityYear2016]\n",
    "familiaDeProductosMasVendidas2016 = familiaDeProductosMasVendidas2016.groupby([\"Opportunity_Year\",\"Region\",\"Product_Family\"]).agg({\"Opportunity_Created_Date\":\"count\"}).reset_index()\n",
    "familiaDeProductosMasVendidas2016.columns = [\"Year\",\"Region\",\"Product_family\",\"ventas\"]\n",
    "familiaDeProductosMasVendidas2016"
   ]
  },
  {
   "cell_type": "code",
   "execution_count": null,
   "metadata": {
    "id": "KS_LhrebNHwO"
   },
   "outputs": [],
   "source": [
    "# Analisis para el año 2017\n",
    "familiasMasVendidasEn2017 = familiaDeProductos_short[\"Product_Family\"].eq(\"Product_Family_133\") \n",
    "opportunityYear2017 = familiaDeProductos_short[\"Opportunity_Year\"].eq(2017)\n",
    "familiaDeProductosMasVendidas2017 = familiaDeProductos_short[familiasMasVendidasEn2017 & opportunityYear2017]\n",
    "familiaDeProductosMasVendidas2017 = familiaDeProductosMasVendidas2017.groupby([\"Opportunity_Year\",\"Region\",\"Product_Family\"]).agg({\"Opportunity_Created_Date\":\"count\"}).reset_index()\n",
    "familiaDeProductosMasVendidas2017.columns = [\"Year\",\"Region\",\"Product_family\",\"ventas\"]\n",
    "familiaDeProductosMasVendidas2017"
   ]
  },
  {
   "cell_type": "code",
   "execution_count": null,
   "metadata": {
    "id": "S9STR7hvNSFt"
   },
   "outputs": [],
   "source": [
    "# Analisis para el año 2018\n",
    "familiasMasVendidasEn2018 = familiaDeProductos_short[\"Product_Family\"].eq(\"Product_Family_133\") \n",
    "opportunityYear2018 = familiaDeProductos_short[\"Opportunity_Year\"].eq(2018)\n",
    "familiaDeProductosMasVendidas2018 = familiaDeProductos_short[familiasMasVendidasEn2018 & opportunityYear2018]\n",
    "familiaDeProductosMasVendidas2018 = familiaDeProductosMasVendidas2018.groupby([\"Opportunity_Year\",\"Region\",\"Product_Family\"]).agg({\"Opportunity_Created_Date\":\"count\"}).reset_index()\n",
    "familiaDeProductosMasVendidas2018.columns = [\"Year\",\"Region\",\"Product_family\",\"ventas\"]\n",
    "familiaDeProductosMasVendidas2018"
   ]
  },
  {
   "cell_type": "code",
   "execution_count": null,
   "metadata": {
    "id": "wyX5aYgNNlKo"
   },
   "outputs": [],
   "source": [
    "familiasMasVendidasConcat = pd.concat([familiaDeProductosMasVendidas2014,\\\n",
    "           familiaDeProductosMasVendidas2015,\\\n",
    "           familiaDeProductosMasVendidas2016,\\\n",
    "           familiaDeProductosMasVendidas2017,\\\n",
    "           familiaDeProductosMasVendidas2018])\n",
    "familiasMasVendidasConcat[\"index\"] = familiasMasVendidasConcat[\"Year\"].astype(str) +  \" - \" + familiasMasVendidasConcat[\"Product_family\"]\n",
    "familiasMasVendidasConcat = familiasMasVendidasConcat.pivot(index='index', columns='Region', values='ventas').fillna(0).reset_index()\n",
    "familiasMasVendidasConcat[\"Middle East\"] = 0.0"
   ]
  },
  {
   "cell_type": "code",
   "execution_count": null,
   "metadata": {
    "id": "YU9sX1JJNn7T"
   },
   "outputs": [],
   "source": [
    "familiasMasVendidasConcat.to_csv(\"distribucion_de_ventas_por_region_anio_familias\")"
   ]
  },
  {
   "cell_type": "markdown",
   "metadata": {
    "id": "MbshmMOUNsDQ"
   },
   "source": [
    "### Analisis productos mas requeridos por region"
   ]
  },
  {
   "cell_type": "code",
   "execution_count": null,
   "metadata": {
    "id": "MUMDkEnONo4f"
   },
   "outputs": [],
   "source": [
    "familiaDeProductosPorRegion = entrenamientoDfProcesado[[\"Stage\",\"Product_Family\",\"Product_Name\",\"Region\"]]\n",
    "familiaDeProductosPorRegion"
   ]
  },
  {
   "cell_type": "code",
   "execution_count": null,
   "metadata": {
    "id": "A0D9L9O3Nzst"
   },
   "outputs": [],
   "source": [
    "ventasConcretadas = familiaDeProductosPorRegion[\"Stage\"] == \"Closed Won\"\n",
    "productos_por_region = familiaDeProductosPorRegion[[\"Product_Name\",\"Region\",\"Stage\"]]\n",
    "cantidad_ventas_minimas = 5\n",
    "productos_por_region = productos_por_region[ventasConcretadas].groupby([\"Region\",\"Product_Name\"]).agg({\"Stage\":\"count\"})\n",
    "productos_por_region.columns = [\"ventas\"]\n",
    "productos_por_region.reset_index().Region.value_counts()"
   ]
  },
  {
   "cell_type": "code",
   "execution_count": null,
   "metadata": {
    "id": "fDlv6iDiN6qq"
   },
   "outputs": [],
   "source": [
    "ventasProductosConcretadas = familiaDeProductosPorRegion[familiaDeProductosPorRegion.Stage.eq(\"Closed Won\")]\n",
    "ventasProductosConcretadas = ventasProductosConcretadas[[\"Product_Family\",\"Product_Name\",\"Region\"]]\n",
    "ventasProductosConcretadas[\"cantidad_ventas\"] = 1\n",
    "ventasProductosConcretadas.groupby([\"Region\",\"Product_Name\"]).agg({\"cantidad_ventas\":\"sum\"})"
   ]
  },
  {
   "cell_type": "code",
   "execution_count": null,
   "metadata": {
    "id": "MHS7NqteN-1G"
   },
   "outputs": [],
   "source": [
    "ventasPorCountry = ventasProductosConcretadas.groupby([\"Region\",\"Product_Family\"]).agg({\"cantidad_ventas\":\"max\"})"
   ]
  },
  {
   "cell_type": "code",
   "execution_count": null,
   "metadata": {
    "id": "Y4tGXEeKOBPo"
   },
   "outputs": [],
   "source": [
    "ventasPorCountry"
   ]
  },
  {
   "cell_type": "markdown",
   "metadata": {
    "id": "8gsQZzuYOEdQ"
   },
   "source": [
    "### Top 5 Productos Por Region\n"
   ]
  },
  {
   "cell_type": "code",
   "execution_count": null,
   "metadata": {
    "id": "JuTozb0gOEBU"
   },
   "outputs": [],
   "source": [
    "productosPorRegion = entrenamientoDfProcesado[[\"Product_Name\",\"Stage\",\"Region\"]]\n",
    "ventas_concretadas = productosPorRegion[productosPorRegion.Stage.eq(\"Closed Won\")]\n",
    "ventas_concretadas = ventas_concretadas.groupby([\"Region\",\"Product_Name\"]).agg({\"Stage\":\"count\"}).reset_index()\n",
    "ventas_concretadas.columns = [\"Region\",\"Product\",\"ventas\"]"
   ]
  },
  {
   "cell_type": "code",
   "execution_count": null,
   "metadata": {
    "id": "Ucwzpa8GOMN6"
   },
   "outputs": [],
   "source": [
    "ventas_concretadas.Region.value_counts()"
   ]
  },
  {
   "cell_type": "code",
   "execution_count": null,
   "metadata": {
    "id": "cZMd4RlMOPFs"
   },
   "outputs": [],
   "source": [
    "ventasEnJapon = ventas_concretadas[ventas_concretadas.Region == \"Japan\"]\n",
    "top5Japon = ventasEnJapon.nlargest(5,\"ventas\")"
   ]
  },
  {
   "cell_type": "code",
   "execution_count": null,
   "metadata": {
    "id": "jOfLUqn1OQB-"
   },
   "outputs": [],
   "source": [
    "ventasEnApac = ventas_concretadas[ventas_concretadas.Region == \"APAC\"]\n",
    "top5Apac = ventasEnApac.nlargest(5,\"ventas\")"
   ]
  },
  {
   "cell_type": "code",
   "execution_count": null,
   "metadata": {
    "id": "fbZOJL55OVLb"
   },
   "outputs": [],
   "source": [
    "ventasEnEmea = ventas_concretadas[ventas_concretadas.Region == \"EMEA\"]\n",
    "top5Emea =ventasEnEmea.nlargest(5,\"ventas\")"
   ]
  },
  {
   "cell_type": "code",
   "execution_count": null,
   "metadata": {
    "id": "udWoY7ltOWRN"
   },
   "outputs": [],
   "source": [
    "ventasEnAmericas = ventas_concretadas[ventas_concretadas.Region == \"Americas\"]\n",
    "top5americas = ventasEnAmericas.nlargest(5,\"ventas\")"
   ]
  },
  {
   "cell_type": "code",
   "execution_count": null,
   "metadata": {
    "id": "3qXlv56MObAw"
   },
   "outputs": [],
   "source": [
    "ventasEnMiddle = ventas_concretadas[ventas_concretadas.Region == \"Middle East\"]\n",
    "top5middleEast = ventasEnMiddle.nlargest(5,\"ventas\")"
   ]
  },
  {
   "cell_type": "code",
   "execution_count": null,
   "metadata": {
    "id": "716M_x1vR4cd"
   },
   "outputs": [],
   "source": [
    "pd.concat([top5americas,\\\n",
    "           top5Apac,\\\n",
    "           top5Emea,\\\n",
    "           top5Japon,\\\n",
    "           top5middleEast]).to_csv(\"top5_productos_por_region\")"
   ]
  },
  {
   "cell_type": "markdown",
   "metadata": {
    "id": "au-R4X2bcac3"
   },
   "source": [
    "### Los 10 productos con mayor recaudación\n"
   ]
  },
  {
   "cell_type": "code",
   "execution_count": null,
   "metadata": {
    "id": "s2uocpIZdCn8"
   },
   "outputs": [],
   "source": [
    "# Me quedo con un df mas chico para el análisis que necesito\n",
    "ventasPorProd = df_closed_won.loc[:, ('Product_Name','Stage','Total_Taxable_Amount_Millions_USD')]\n",
    "ventasPorProdGrouped = ventasPorProd.groupby('Product_Name').agg({'Total_Taxable_Amount_Millions_USD':'sum'})\n",
    "los10ProdMasVendidos = ventasPorProdGrouped.nlargest(10, 'Total_Taxable_Amount_Millions_USD').reset_index(inplace=True)\n",
    "los10ProdMasVendidos.to_csv(\"los10ProdMasVendidos.csv\")"
   ]
  },
  {
   "cell_type": "markdown",
   "metadata": {
    "id": "IsyDwySXcnPj"
   },
   "source": [
    "###  Los 10 productos más y menos vendidos."
   ]
  },
  {
   "cell_type": "code",
   "execution_count": null,
   "metadata": {
    "id": "XSslByvhccfj"
   },
   "outputs": [],
   "source": [
    "productos = entrenamientoDfProcesado\n",
    "productos[\"Oportunidades_ganadas\"] = productos[\"Stage\"] == \"Closed Won\"\n",
    "\n",
    "productos[\"Oportunidades_perdidas\"] = productos[\"Stage\"] == \"Closed Lost\"\n",
    "\n",
    "productos_oportunidades_ganadas = productos.groupby(\"Product_Name\").agg({\"Oportunidades_ganadas\" : \"sum\"}).reset_index()\n",
    "productos_oportunidades_perdidas = productos.groupby(\"Product_Name\").agg({\"Oportunidades_perdidas\" : \"sum\"}).reset_index()\n",
    "\n",
    "productos_oportunidades_perdidas = productos_oportunidades_perdidas.nlargest(10, \"Oportunidades_perdidas\")\n",
    "\n",
    "productos_oportunidades_ganadas = productos_oportunidades_ganadas.nlargest(10, \"Oportunidades_ganadas\")\n",
    "\n",
    "productos_oportunidades_ganadas_perdidas  = productos_oportunidades_ganadas.append(productos_oportunidades_perdidas)\n",
    "productos_oportunidades_ganadas_perdidas.to_csv(\"oportunidades_perdidas_ganadas.csv\")              "
   ]
  },
  {
   "cell_type": "markdown",
   "metadata": {
    "id": "CX2E5OdBOse7"
   },
   "source": [
    "## Análisis sobre TRF"
   ]
  },
  {
   "cell_type": "code",
   "execution_count": null,
   "metadata": {
    "id": "qQjtl8vzSHjJ"
   },
   "outputs": [],
   "source": [
    "#Armo el dataframe con la informacion a analizar\n",
    "analisis_TRF = entrenamientoDfProcesado.loc[:,['Total_Amount','TRF','Total_Amount_Currency','ASP','ASP_(converted)',\\\n",
    "                                      'Opportunity_Owner','ASP_Currency','Product_Name','Stage','Total_Amount_USD']]"
   ]
  },
  {
   "cell_type": "markdown",
   "metadata": {
    "id": "BQnms6n1REbr"
   },
   "source": [
    "### Analisis de ventas según TRF\n"
   ]
  },
  {
   "cell_type": "code",
   "execution_count": null,
   "metadata": {
    "colab": {
     "base_uri": "https://localhost:8080/"
    },
    "id": "frJ4TG7CRgSD",
    "outputId": "fbc563fa-81e9-4acd-ffee-5d0aa317a20c"
   },
   "outputs": [
    {
     "data": {
      "text/plain": [
       "70.63787100961822"
      ]
     },
     "execution_count": 61,
     "metadata": {
      "tags": []
     },
     "output_type": "execute_result"
    }
   ],
   "source": [
    "porcentajeDe0 = (analisis_TRF.TRF.value_counts()[0])/(analisis_TRF.TRF.count()) * 100\n",
    "porcentajeDe0\n",
    "\n",
    "#Vemos que hay casi 12000 items que tienen TRF = 0,teniendo en cuenta que hay alrededor de 16000 filas esta cantidad es \n",
    "#bastante significativa."
   ]
  },
  {
   "cell_type": "code",
   "execution_count": null,
   "metadata": {
    "colab": {
     "base_uri": "https://localhost:8080/"
    },
    "id": "QcIsNKNGRq3o",
    "outputId": "83c60dcf-bd08-4f99-de8a-78e97fbcac6d"
   },
   "outputs": [
    {
     "data": {
      "text/plain": [
       "True     2869\n",
       "False    2107\n",
       "Name: TRF, dtype: int64"
      ]
     },
     "execution_count": 62,
     "metadata": {
      "tags": []
     },
     "output_type": "execute_result"
    }
   ],
   "source": [
    "#Para este analisis consideraremos aquellos productos que tengan un valor de TRF > 0\n",
    "productosAAnalizar = analisis_TRF[analisis_TRF.TRF > 0]\n",
    "promedio_TRF_por_producto = productosAAnalizar.groupby('Product_Name')['TRF'].transform('mean')\n",
    "coincidePromedioConTRF = promedio_TRF_por_producto == productosAAnalizar.TRF\n",
    "coincidePromedioConTRF.value_counts()\n",
    "#Vemos que hay casos de productos cuyo valor de TRF es distinto del promedio.Esto nos dice que para ese producto no hay\n",
    "#un unico valor de TRF.Es esto correcto?tiene sentido?"
   ]
  },
  {
   "cell_type": "code",
   "execution_count": null,
   "metadata": {
    "colab": {
     "base_uri": "https://localhost:8080/"
    },
    "id": "dez583JMVjVi",
    "outputId": "d87162cb-b598-4246-8ac2-61136adb56ff"
   },
   "outputs": [
    {
     "data": {
      "text/html": [
       "<div>\n",
       "<style scoped>\n",
       "    .dataframe tbody tr th:only-of-type {\n",
       "        vertical-align: middle;\n",
       "    }\n",
       "\n",
       "    .dataframe tbody tr th {\n",
       "        vertical-align: top;\n",
       "    }\n",
       "\n",
       "    .dataframe thead th {\n",
       "        text-align: right;\n",
       "    }\n",
       "</style>\n",
       "<table border=\"1\" class=\"dataframe\">\n",
       "  <thead>\n",
       "    <tr style=\"text-align: right;\">\n",
       "      <th></th>\n",
       "      <th>Cant_Oportunidades_Totales</th>\n",
       "      <th>Total_Amount_USD_Posibles</th>\n",
       "    </tr>\n",
       "    <tr>\n",
       "      <th>TRF</th>\n",
       "      <th></th>\n",
       "      <th></th>\n",
       "    </tr>\n",
       "  </thead>\n",
       "  <tbody>\n",
       "    <tr>\n",
       "      <th>1</th>\n",
       "      <td>2192</td>\n",
       "      <td>799,122,401.12</td>\n",
       "    </tr>\n",
       "    <tr>\n",
       "      <th>2</th>\n",
       "      <td>627</td>\n",
       "      <td>513,110,939.51</td>\n",
       "    </tr>\n",
       "    <tr>\n",
       "      <th>3</th>\n",
       "      <td>354</td>\n",
       "      <td>449,605,335.42</td>\n",
       "    </tr>\n",
       "    <tr>\n",
       "      <th>4</th>\n",
       "      <td>208</td>\n",
       "      <td>596,227,378.78</td>\n",
       "    </tr>\n",
       "    <tr>\n",
       "      <th>5</th>\n",
       "      <td>297</td>\n",
       "      <td>654,341,111.79</td>\n",
       "    </tr>\n",
       "  </tbody>\n",
       "</table>\n",
       "</div>"
      ],
      "text/plain": [
       "     Cant_Oportunidades_Totales  Total_Amount_USD_Posibles\n",
       "TRF                                                       \n",
       "1                          2192             799,122,401.12\n",
       "2                           627             513,110,939.51\n",
       "3                           354             449,605,335.42\n",
       "4                           208             596,227,378.78\n",
       "5                           297             654,341,111.79"
      ]
     },
     "execution_count": 63,
     "metadata": {
      "tags": []
     },
     "output_type": "execute_result"
    }
   ],
   "source": [
    "#Para evitar el problema de multiples TRF para un producto decidimos agrupar por cantidad de TRF\n",
    "#Agrupamos por TRF\n",
    "\n",
    "agrupadosPorTRF = productosAAnalizar.groupby(['TRF']).agg({'Product_Name':'count','Total_Amount_USD':'sum'})\n",
    "agrupadosPorTRF.columns = ['Cant_Oportunidades_Totales','Total_Amount_USD_Posibles']\n",
    "agrupadosPorTRF.head()"
   ]
  },
  {
   "cell_type": "code",
   "execution_count": null,
   "metadata": {
    "colab": {
     "base_uri": "https://localhost:8080/"
    },
    "id": "VEZZQyv0RP9O",
    "outputId": "db5dcf7b-87e3-4310-cb82-1fded0fbb0f4"
   },
   "outputs": [
    {
     "data": {
      "text/html": [
       "<div>\n",
       "<style scoped>\n",
       "    .dataframe tbody tr th:only-of-type {\n",
       "        vertical-align: middle;\n",
       "    }\n",
       "\n",
       "    .dataframe tbody tr th {\n",
       "        vertical-align: top;\n",
       "    }\n",
       "\n",
       "    .dataframe thead th {\n",
       "        text-align: right;\n",
       "    }\n",
       "</style>\n",
       "<table border=\"1\" class=\"dataframe\">\n",
       "  <thead>\n",
       "    <tr style=\"text-align: right;\">\n",
       "      <th></th>\n",
       "      <th>Cant_Oportunidades_Ganadas</th>\n",
       "      <th>Total_Amount_USD_Ganados</th>\n",
       "    </tr>\n",
       "    <tr>\n",
       "      <th>TRF</th>\n",
       "      <th></th>\n",
       "      <th></th>\n",
       "    </tr>\n",
       "  </thead>\n",
       "  <tbody>\n",
       "    <tr>\n",
       "      <th>1</th>\n",
       "      <td>866</td>\n",
       "      <td>303,234,422.94</td>\n",
       "    </tr>\n",
       "    <tr>\n",
       "      <th>2</th>\n",
       "      <td>167</td>\n",
       "      <td>136,913,684.52</td>\n",
       "    </tr>\n",
       "    <tr>\n",
       "      <th>3</th>\n",
       "      <td>76</td>\n",
       "      <td>99,201,029.11</td>\n",
       "    </tr>\n",
       "    <tr>\n",
       "      <th>4</th>\n",
       "      <td>44</td>\n",
       "      <td>74,521,924.80</td>\n",
       "    </tr>\n",
       "    <tr>\n",
       "      <th>5</th>\n",
       "      <td>38</td>\n",
       "      <td>93,579,759.45</td>\n",
       "    </tr>\n",
       "  </tbody>\n",
       "</table>\n",
       "</div>"
      ],
      "text/plain": [
       "     Cant_Oportunidades_Ganadas  Total_Amount_USD_Ganados\n",
       "TRF                                                      \n",
       "1                           866            303,234,422.94\n",
       "2                           167            136,913,684.52\n",
       "3                            76             99,201,029.11\n",
       "4                            44             74,521,924.80\n",
       "5                            38             93,579,759.45"
      ]
     },
     "execution_count": 64,
     "metadata": {
      "tags": []
     },
     "output_type": "execute_result"
    }
   ],
   "source": [
    "#ahora filtramos las oportunidades ganadas\n",
    "agrupadosPorTRFSoloGanados = productosAAnalizar[productosAAnalizar.Stage == 'Closed Won'].groupby(['TRF']).agg({'Product_Name':'count','Total_Amount_USD':'sum'})\n",
    "agrupadosPorTRFSoloGanados.columns = ['Cant_Oportunidades_Ganadas','Total_Amount_USD_Ganados']\n",
    "agrupadosPorTRFSoloGanados.head()"
   ]
  },
  {
   "cell_type": "code",
   "execution_count": null,
   "metadata": {
    "colab": {
     "base_uri": "https://localhost:8080/"
    },
    "id": "-FBg3wu0RYdt",
    "outputId": "de252d31-f554-471a-f367-ea0804271bda"
   },
   "outputs": [
    {
     "data": {
      "text/html": [
       "<div>\n",
       "<style scoped>\n",
       "    .dataframe tbody tr th:only-of-type {\n",
       "        vertical-align: middle;\n",
       "    }\n",
       "\n",
       "    .dataframe tbody tr th {\n",
       "        vertical-align: top;\n",
       "    }\n",
       "\n",
       "    .dataframe thead th {\n",
       "        text-align: right;\n",
       "    }\n",
       "</style>\n",
       "<table border=\"1\" class=\"dataframe\">\n",
       "  <thead>\n",
       "    <tr style=\"text-align: right;\">\n",
       "      <th></th>\n",
       "      <th>Cant_Oportunidades_Totales</th>\n",
       "      <th>Total_Amount_USD_Posibles</th>\n",
       "      <th>Cant_Oportunidades_Ganadas</th>\n",
       "      <th>Total_Amount_USD_Ganados</th>\n",
       "      <th>Cant_Oportunidades_Perdidas</th>\n",
       "    </tr>\n",
       "    <tr>\n",
       "      <th>TRF</th>\n",
       "      <th></th>\n",
       "      <th></th>\n",
       "      <th></th>\n",
       "      <th></th>\n",
       "      <th></th>\n",
       "    </tr>\n",
       "  </thead>\n",
       "  <tbody>\n",
       "    <tr>\n",
       "      <th>1</th>\n",
       "      <td>2192</td>\n",
       "      <td>799,122,401.12</td>\n",
       "      <td>866.00</td>\n",
       "      <td>303,234,422.94</td>\n",
       "      <td>1311</td>\n",
       "    </tr>\n",
       "    <tr>\n",
       "      <th>2</th>\n",
       "      <td>627</td>\n",
       "      <td>513,110,939.51</td>\n",
       "      <td>167.00</td>\n",
       "      <td>136,913,684.52</td>\n",
       "      <td>454</td>\n",
       "    </tr>\n",
       "    <tr>\n",
       "      <th>3</th>\n",
       "      <td>354</td>\n",
       "      <td>449,605,335.42</td>\n",
       "      <td>76.00</td>\n",
       "      <td>99,201,029.11</td>\n",
       "      <td>277</td>\n",
       "    </tr>\n",
       "    <tr>\n",
       "      <th>4</th>\n",
       "      <td>208</td>\n",
       "      <td>596,227,378.78</td>\n",
       "      <td>44.00</td>\n",
       "      <td>74,521,924.80</td>\n",
       "      <td>162</td>\n",
       "    </tr>\n",
       "    <tr>\n",
       "      <th>5</th>\n",
       "      <td>297</td>\n",
       "      <td>654,341,111.79</td>\n",
       "      <td>38.00</td>\n",
       "      <td>93,579,759.45</td>\n",
       "      <td>256</td>\n",
       "    </tr>\n",
       "  </tbody>\n",
       "</table>\n",
       "</div>"
      ],
      "text/plain": [
       "     Cant_Oportunidades_Totales  ...  Cant_Oportunidades_Perdidas\n",
       "TRF                              ...                             \n",
       "1                          2192  ...                         1311\n",
       "2                           627  ...                          454\n",
       "3                           354  ...                          277\n",
       "4                           208  ...                          162\n",
       "5                           297  ...                          256\n",
       "\n",
       "[5 rows x 5 columns]"
      ]
     },
     "execution_count": 65,
     "metadata": {
      "tags": []
     },
     "output_type": "execute_result"
    }
   ],
   "source": [
    "Cant_Oportunidades_Perdidas = productosAAnalizar[productosAAnalizar.Stage == 'Closed Lost'].groupby(['TRF']).agg({'Product_Name':'count'})\n",
    "Cant_Oportunidades_Perdidas.columns = ['Cant_Oportunidades_Perdidas']\n",
    "agrupadosPorTRFMergeado = agrupadosPorTRF.merge(agrupadosPorTRFSoloGanados,on='TRF',how='left')\n",
    "agrupadosPorTRFMergeado['Cant_Oportunidades_Perdidas'] = Cant_Oportunidades_Perdidas\n",
    "agrupadosPorTRFMergeado = agrupadosPorTRFMergeado.fillna(0) \n",
    "agrupadosPorTRFMergeado.head()"
   ]
  },
  {
   "cell_type": "code",
   "execution_count": null,
   "metadata": {
    "colab": {
     "base_uri": "https://localhost:8080/"
    },
    "id": "JSL1jFmRTG5U",
    "outputId": "60f40573-d276-460f-d794-57a7e61e6b0c"
   },
   "outputs": [
    {
     "data": {
      "text/html": [
       "<div>\n",
       "<style scoped>\n",
       "    .dataframe tbody tr th:only-of-type {\n",
       "        vertical-align: middle;\n",
       "    }\n",
       "\n",
       "    .dataframe tbody tr th {\n",
       "        vertical-align: top;\n",
       "    }\n",
       "\n",
       "    .dataframe thead th {\n",
       "        text-align: right;\n",
       "    }\n",
       "</style>\n",
       "<table border=\"1\" class=\"dataframe\">\n",
       "  <thead>\n",
       "    <tr style=\"text-align: right;\">\n",
       "      <th></th>\n",
       "      <th>Cant_Oportunidades_Totales</th>\n",
       "      <th>Total_Amount_USD_Posibles</th>\n",
       "      <th>Cant_Oportunidades_Ganadas</th>\n",
       "      <th>Total_Amount_USD_Ganados</th>\n",
       "      <th>Cant_Oportunidades_Perdidas</th>\n",
       "    </tr>\n",
       "    <tr>\n",
       "      <th>TRF</th>\n",
       "      <th></th>\n",
       "      <th></th>\n",
       "      <th></th>\n",
       "      <th></th>\n",
       "      <th></th>\n",
       "    </tr>\n",
       "  </thead>\n",
       "  <tbody>\n",
       "    <tr>\n",
       "      <th>1</th>\n",
       "      <td>2192</td>\n",
       "      <td>799,122,401.12</td>\n",
       "      <td>866.00</td>\n",
       "      <td>303,234,422.94</td>\n",
       "      <td>1311</td>\n",
       "    </tr>\n",
       "    <tr>\n",
       "      <th>2</th>\n",
       "      <td>627</td>\n",
       "      <td>513,110,939.51</td>\n",
       "      <td>167.00</td>\n",
       "      <td>136,913,684.52</td>\n",
       "      <td>454</td>\n",
       "    </tr>\n",
       "    <tr>\n",
       "      <th>3</th>\n",
       "      <td>354</td>\n",
       "      <td>449,605,335.42</td>\n",
       "      <td>76.00</td>\n",
       "      <td>99,201,029.11</td>\n",
       "      <td>277</td>\n",
       "    </tr>\n",
       "    <tr>\n",
       "      <th>4</th>\n",
       "      <td>208</td>\n",
       "      <td>596,227,378.78</td>\n",
       "      <td>44.00</td>\n",
       "      <td>74,521,924.80</td>\n",
       "      <td>162</td>\n",
       "    </tr>\n",
       "    <tr>\n",
       "      <th>5</th>\n",
       "      <td>297</td>\n",
       "      <td>654,341,111.79</td>\n",
       "      <td>38.00</td>\n",
       "      <td>93,579,759.45</td>\n",
       "      <td>256</td>\n",
       "    </tr>\n",
       "  </tbody>\n",
       "</table>\n",
       "</div>"
      ],
      "text/plain": [
       "     Cant_Oportunidades_Totales  ...  Cant_Oportunidades_Perdidas\n",
       "TRF                              ...                             \n",
       "1                          2192  ...                         1311\n",
       "2                           627  ...                          454\n",
       "3                           354  ...                          277\n",
       "4                           208  ...                          162\n",
       "5                           297  ...                          256\n",
       "\n",
       "[5 rows x 5 columns]"
      ]
     },
     "execution_count": 66,
     "metadata": {
      "tags": []
     },
     "output_type": "execute_result"
    }
   ],
   "source": [
    "agrupadosPorTRFMergeadoSoloGanados = agrupadosPorTRFMergeado.loc[agrupadosPorTRFMergeado.Cant_Oportunidades_Ganadas > 0]\n",
    "agrupadosPorTRFMergeadoSoloGanados.head()\n",
    "#este es finalmente el df usado para crear la visualizacion de esta seccion"
   ]
  },
  {
   "cell_type": "markdown",
   "metadata": {
    "id": "vJ4bpOYDZob8"
   },
   "source": [
    "## Analisis sobre rango entrega"
   ]
  },
  {
   "cell_type": "markdown",
   "metadata": {
    "id": "-U7D1t_EZ1PC"
   },
   "source": [
    "### Rango de entrega y porcentaje de exito"
   ]
  },
  {
   "cell_type": "code",
   "execution_count": null,
   "metadata": {
    "id": "OVCJvRj5aQ26"
   },
   "outputs": [],
   "source": [
    "# Me copio en una aux el DataFrame.\n",
    "segun_fechas = entrenamientoDfProcesado\n",
    "\n",
    "# Cambie el Planned_Delivery_Start_Date de type object a datetime.\n",
    "segun_fechas[\"Planned_Delivery_Start_Date\"]= pd.to_datetime(segun_fechas[\"Planned_Delivery_Start_Date\"])\n",
    "\n",
    "# Cambie el Planned_Delivery_End_Date de type object a datetime.\n",
    "segun_fechas[\"Planned_Delivery_End_Date\"]= pd.to_datetime(segun_fechas[\"Planned_Delivery_End_Date\"])\n",
    "\n",
    "segun_fechas[\"Rango_Entrega\"] = segun_fechas[\"Planned_Delivery_End_Date\"] - segun_fechas[\"Planned_Delivery_Start_Date\"]\n",
    "\n",
    "# Me quedo con los casos ganados\n",
    "segun_fechas[\"Stage_Won\"] = segun_fechas[\"Stage\"] == \"Closed Won\"\n",
    "\n",
    "# Agrupo por Familia de Producto y fechas de planeado entrega inicial y final.\n",
    "segun_fechas['Rango_Entrega'] = segun_fechas['Rango_Entrega'].astype('timedelta64[D]')\n",
    "\n",
    "# HIPOTESIS : Mientras mas rapdio entregen los productos los vendedores, mayor porcentaje de exito.\n",
    "segun_fechas_vendedores = segun_fechas.groupby(\"Opportunity_Owner\").agg({\"Rango_Entrega\" : \"mean\", \"Stage_Won\" : \"mean\"})\n",
    "\n",
    "entrega_mas_rapida_mas_exito = segun_fechas_vendedores[(segun_fechas_vendedores[[\"Stage_Won\"]] != 0).all(axis=1)]\n",
    "\n",
    "entrega_mas_rapida_mas_exito = entrega_mas_rapida_mas_exito.nsmallest(5, \"Rango_Entrega\")\n",
    "entrega_mas_lenta = segun_fechas_vendedores.nlargest(5, \"Rango_Entrega\")\n",
    "\n",
    "porcentaje_entrega_mas_rapido_mas_lento = entrega_mas_rapida_mas_exito.append(entrega_mas_lenta)\n",
    "\n",
    "porcentaje_entrega_mas_rapido_mas_lento[\"Stage_Won\"] = porcentaje_entrega_mas_rapido_mas_lento[\"Stage_Won\"] * 100\n",
    "porcentaje_entrega_mas_rapido_mas_lento.to_csv(\"porcentaje_entrega_mas_rapido_mas_lento.csv\")"
   ]
  },
  {
   "cell_type": "markdown",
   "metadata": {
    "id": "IVzT228rZ--y"
   },
   "source": [
    "### Rango de entrega segun Regiones"
   ]
  },
  {
   "cell_type": "code",
   "execution_count": null,
   "metadata": {
    "id": "hfdfZ-1ba4RK"
   },
   "outputs": [],
   "source": [
    "#Analisamos segun la region\n",
    "segun_fechas_region = segun_fechas.groupby(\"Region\").agg({\"Rango_Entrega\" : \"mean\"}).drop_duplicates()\n",
    "\n",
    "# Segun fechas de entrega por region\n",
    "segun_fechas_region.to_csv(\"promedio_entrega_region.csv\")"
   ]
  },
  {
   "cell_type": "markdown",
   "metadata": {
    "id": "RHuwwgKla-S4"
   },
   "source": [
    "## Analisis sobre requerimiento de aprobacion especial"
   ]
  },
  {
   "cell_type": "markdown",
   "metadata": {
    "id": "RoDlDzw8bEma"
   },
   "source": [
    "### Stages y sus aprobaciones especiales"
   ]
  },
  {
   "cell_type": "code",
   "execution_count": null,
   "metadata": {
    "id": "--kCbJBFbb13"
   },
   "outputs": [],
   "source": [
    "# Vemos el  exito segun si necesita una aprobacion especial.\n",
    "necesita_delivery_terms_stage = entrenamientoDfProcesado.groupby(\"Stage\").agg({\"Pricing, Delivery_Terms_Quote_Appr\" : \"sum\"})\n",
    "necesita_delivery_terms_stage.to_csv(\"necesita_delivery_terms_stage.csv\")"
   ]
  },
  {
   "cell_type": "markdown",
   "metadata": {
    "id": "kJAtXaOcbQ3q"
   },
   "source": [
    "### Porcentaje de oportunidades segun region"
   ]
  },
  {
   "cell_type": "code",
   "execution_count": null,
   "metadata": {
    "id": "ZoMZMcKAbpOC"
   },
   "outputs": [],
   "source": [
    "#Vemos el porcentaje de aprobacion especial segun la region\n",
    "necesita_delivery_terms_region = entrenamientoDfProcesado.groupby(\"Region\").agg({\"Pricing, Delivery_Terms_Quote_Appr\" : \"sum\", \"Opportunity_ID\" : \"count\"}).reset_index()\n",
    "\n",
    "necesita_delivery_terms_region[\"Pricing, Delivery_Terms_Quote_Appr\"]= necesita_delivery_terms_region[\"Pricing, Delivery_Terms_Quote_Appr\"].astype(float)\n",
    "necesita_delivery_terms_region[\"Opportunity_ID\"] = necesita_delivery_terms_region[\"Opportunity_ID\"].astype(float)\n",
    "\n",
    "necesita_delivery_terms_region[\"Porcentaje_requerimiento_aprovacion\"] = (necesita_delivery_terms_region[\"Pricing, Delivery_Terms_Quote_Appr\"] / necesita_delivery_terms_region[\"Opportunity_ID\"]) * 100\n",
    "\n",
    "porcentaje_aprobacion_req_region = necesita_delivery_terms_region[[\"Region\", \"Porcentaje_requerimiento_aprovacion\"]]\n",
    "\n",
    "porcentaje_aprobacion_req_region.to_csv(\"porcentaje_aprobacion_req_region.csv\")"
   ]
  },
  {
   "cell_type": "markdown",
   "metadata": {
    "id": "dl7gTgFVbKO6"
   },
   "source": [
    "### Paises con mayor requerimiento de aprobacion especial"
   ]
  },
  {
   "cell_type": "code",
   "execution_count": null,
   "metadata": {
    "id": "10_DaM26cJi7"
   },
   "outputs": [],
   "source": [
    "# 10 Billing_Country con mayor requerimiento de aprovacion especial\n",
    "aprobacion_segun_territorio = entrenamientoDfProcesado\n",
    "aprobacion_segun_territorio = aprobacion_segun_territorio.groupby(\"Billing_Country\").agg({\"Pricing, Delivery_Terms_Quote_Appr\" : \"sum\"})\n",
    "paises_con_mayor_requerimiento_aprobacion = aprobacion_segun_territorio[\"Pricing, Delivery_Terms_Quote_Appr\"].nlargest(10).reset_index()\n",
    "paises_con_mayor_requerimiento_aprobacion.to_csv(\"paises_con_mayor_requerimiento_aprobacion.csv\")"
   ]
  }
 ],
 "metadata": {
  "colab": {
   "collapsed_sections": [
    "e_Jwk1H3Dp2n",
    "TWg6scrZPwUx",
    "dKtFckEAQujm",
    "EKdq6Bk9i7GU",
    "iKLHvWw6I1PZ",
    "7IxSdbECKEB-",
    "BAOYtLWbOLqb",
    "CX2E5OdBOse7",
    "BQnms6n1REbr",
    "y-rYgZhJPIyU",
    "QTokpmX9-7tL",
    "zfPkUCzKLc-b",
    "MbshmMOUNsDQ",
    "8gsQZzuYOEdQ"
   ],
   "name": "TP1-OrgaDeDatos",
   "provenance": []
  },
  "kernelspec": {
   "display_name": "Python 3",
   "language": "python",
   "name": "python3"
  },
  "language_info": {
   "codemirror_mode": {
    "name": "ipython",
    "version": 3
   },
   "file_extension": ".py",
   "mimetype": "text/x-python",
   "name": "python",
   "nbconvert_exporter": "python",
   "pygments_lexer": "ipython3",
   "version": "3.7.6"
  }
 },
 "nbformat": 4,
 "nbformat_minor": 1
}
